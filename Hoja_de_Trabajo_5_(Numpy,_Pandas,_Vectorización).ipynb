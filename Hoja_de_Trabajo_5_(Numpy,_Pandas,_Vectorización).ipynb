{
  "nbformat": 4,
  "nbformat_minor": 0,
  "metadata": {
    "colab": {
      "name": "Hoja de Trabajo #5 - (Numpy, Pandas, Vectorización).ipynb",
      "provenance": [],
      "collapsed_sections": [],
      "include_colab_link": true
    },
    "kernelspec": {
      "name": "python3",
      "display_name": "Python 3"
    }
  },
  "cells": [
    {
      "cell_type": "markdown",
      "metadata": {
        "id": "view-in-github",
        "colab_type": "text"
      },
      "source": [
        "<a href=\"https://colab.research.google.com/github/freddruiz/Laboratorio5_Numpy/blob/main/Hoja_de_Trabajo_5_(Numpy%2C_Pandas%2C_Vectorizaci%C3%B3n).ipynb\" target=\"_parent\"><img src=\"https://colab.research.google.com/assets/colab-badge.svg\" alt=\"Open In Colab\"/></a>"
      ]
    },
    {
      "cell_type": "markdown",
      "metadata": {
        "id": "7oVGuxlVV4SG"
      },
      "source": [
        "# Hoja de Trabajo #5 - (Numpy, Pandas, Vectorización)"
      ]
    },
    {
      "cell_type": "code",
      "metadata": {
        "id": "fdAwu_nlyv8X"
      },
      "source": [
        "import pandas as pd\n",
        "import numpy as np"
      ],
      "execution_count": 3,
      "outputs": []
    },
    {
      "cell_type": "markdown",
      "metadata": {
        "id": "Lhr0gn0Eiu8h"
      },
      "source": [
        "Desarrollar los siguientes ejercicios y subir el Notebook actualizado a su **repositorio de GitHub**. El entregable debe ser el link del archivo en su repositorio, **cualquier otra forma de entregable no sera aceptada**."
      ]
    },
    {
      "cell_type": "markdown",
      "metadata": {
        "id": "Ocxx30RtBjfk"
      },
      "source": [
        "# Numpy"
      ]
    },
    {
      "cell_type": "markdown",
      "metadata": {
        "id": "zTLXFtaFBk3t"
      },
      "source": [
        "## Ejercicio 1: Crear un conjunto de datos lineal\n",
        "\n",
        "Crear un conjunto de datos simple que consta de una sola característica y una etiqueta de la siguiente manera:\n",
        "\n",
        "1. Asigne una secuencia de números enteros del 6 al 20 (incluyendo 20) a un arreglo de NumPy llamado `caracteristica`.\n",
        "2. Asigne 15 valores a un arreglo de NumPy llamado `etiqueta` de manera que:\n",
        "\n",
        "```\n",
        "    etiqueta = (3) (caracteristica) + 4\n",
        "```\n",
        "Por ejemplo, el primer valor de `etiqueta` debería ser:\n",
        "\n",
        "```\n",
        "   etiqueta = (3) (6) + 4 = 22\n",
        "```"
      ]
    },
    {
      "cell_type": "code",
      "metadata": {
        "id": "8bEE973IfR2y",
        "colab": {
          "base_uri": "https://localhost:8080/"
        },
        "outputId": "6a62e647-c12a-4ee6-9904-bf60c4590320"
      },
      "source": [
        "# Desarrollar solucion\n",
        "caracteristica = np.linspace(6, 20, 15, endpoint=True,dtype=int)\n",
        "etiqueta = 3*caracteristica+4\n",
        "print(\"Caracteristica\")\n",
        "print(caracteristica)\n",
        "print(\"Etiqueta\")\n",
        "print(etiqueta)"
      ],
      "execution_count": 26,
      "outputs": [
        {
          "output_type": "stream",
          "text": [
            "Caracteristica\n",
            "[ 6  7  8  9 10 11 12 13 14 15 16 17 18 19 20]\n",
            "Etiqueta\n",
            "[22 25 28 31 34 37 40 43 46 49 52 55 58 61 64]\n"
          ],
          "name": "stdout"
        }
      ]
    },
    {
      "cell_type": "markdown",
      "metadata": {
        "id": "ooIBwdI6_LyB"
      },
      "source": [
        "## Ejercicio 2: agregar ruido al conjunto de datos\n",
        "\n",
        "Inserte un ruido aleatorio en cada elemento de la matriz `etiqueta` que ya creó. Para ser más precisos, modifique cada valor asignado a `etiqueta` agregando un valor \"floating-point\" aleatorio *diferente* entre -2 y +2.\n",
        "\n",
        "No utilice broadcasting. En su lugar, cree un arreglo de `ruido` que tenga la misma dimensión que `etiqueta`."
      ]
    },
    {
      "cell_type": "code",
      "metadata": {
        "id": "P-SWWbX_fZk_",
        "colab": {
          "base_uri": "https://localhost:8080/"
        },
        "outputId": "d970fe49-8c71-4d61-be85-05121779b675"
      },
      "source": [
        "# Desarrollar solucion\n",
        "ruido= np.random.randint(-2,+2,len(etiqueta))\n",
        "ruido = np.array(randnums, dtype=float)\n",
        "print(\"Ruido: \")\n",
        "print(ruido)\n",
        "print(\"\\n\")\n",
        "print(\"Etiqueta:\")\n",
        "print(etiqueta)\n",
        "print(\"\\n\")\n",
        "print(\"Etiqueta * Ruido: \")\n",
        "print(etiqueta*ruido)"
      ],
      "execution_count": 37,
      "outputs": [
        {
          "output_type": "stream",
          "text": [
            "Ruido: \n",
            "[-2. -2. -1. -2.  1.  1.  1.  0. -2. -1. -2. -1.  0. -1. -1.]\n",
            "\n",
            "\n",
            "Etiqueta:\n",
            "[22 25 28 31 34 37 40 43 46 49 52 55 58 61 64]\n",
            "\n",
            "\n",
            "Etiqueta * Ruido: \n",
            "[ -44.  -50.  -28.  -62.   34.   37.   40.    0.  -92.  -49. -104.  -55.\n",
            "    0.  -61.  -64.]\n"
          ],
          "name": "stdout"
        }
      ]
    },
    {
      "cell_type": "markdown",
      "metadata": {
        "id": "KdRcbVcQ34qj"
      },
      "source": [
        "# Pandas"
      ]
    },
    {
      "cell_type": "markdown",
      "metadata": {
        "id": "2UnsHAwN7dYC"
      },
      "source": [
        "## Ejericio 3: Crear un DataFrame\n",
        "\n",
        "Hacer lo siguiente:\n",
        "\n",
        "   1. Cree un pandas DataFrame de 10x3 (10 filas x 3 columnas) en el que las columnas se denominen \"Data Warehouse\", \"Python in Data Science\", y \"Estadistica Aplicada\". Llene cada una de las 30 celdas del DataFrame con un número entero aleatorio entre 0 y 100, incluyendo 100.\n",
        "\n",
        "   2. Despliege lo siguiente:\n",
        "\n",
        "      * Todo el DataFrame\n",
        "      * Las primeras 5 filas del DataFrame\n",
        "      * Las ultimas 5 filas del DataFrame\n",
        "      * El valor en la celda de la fila # 1 de la columna \"Data Warehouse\"\n",
        "      * El valor en la celda de la fila # 3 de la columna \"Estadistica Aplicada\" \n",
        "\n",
        "   3. Cree una cuarta columna llamada \"Promedio\", que se rellena con el promedio fila por fila de las otras 3 columnas (\"Data Warehouse\", \"Python in Data Science\", y \"Estadistica Aplicada\"). Debe de usar la funcion de Numpy para calcular el promedio.\n",
        "\n",
        "Para completar esta parte, es útil entender los conceptos básicos de NumPy cubiertos en clase y en la seccion anterior."
      ]
    },
    {
      "cell_type": "code",
      "metadata": {
        "id": "9bJZEcA4fbN7"
      },
      "source": [
        "# Desarrollar solucion\n",
        "\n",
        "headers= [\"Data Warehouse\", \"Python in Data Science\", \"Estadistica Aplicada\"]\n",
        "#Creacion del Data Frame\n",
        "dfNotas = pd.DataFrame(np.array(np.random.rand(10,3)*100, dtype=int),\n",
        "                   columns=headers)"
      ],
      "execution_count": 78,
      "outputs": []
    },
    {
      "cell_type": "code",
      "metadata": {
        "colab": {
          "base_uri": "https://localhost:8080/"
        },
        "id": "I1U1Xt7gumZg",
        "outputId": "f0f2020f-6819-4d3b-df97-fb3d66f54e7a"
      },
      "source": [
        "print(\"Despliegue de todo el data frame\")\n",
        "print(dfNotas)\n",
        "print(\"\\n\")\n",
        "print(\"Despliegue de las primeras 5 filas\")\n",
        "print(dfNotas.head(5))\n",
        "print(\"\\n\")\n",
        "print(\"Despliegue de las ultimas 5 filas\")\n",
        "print(dfNotas.tail(5))\n",
        "print(\"\\n\")\n",
        "print(\"Despliegue del valor registrado en la columna 'Data Warehouse' fila #1\")\n",
        "print(dfNotas['Data Warehouse'].loc[0])\n",
        "print(\"\\n\")\n",
        "print(\"Despliegue del valor registrado en la columna 'Estadistica Aplicada' fila #3\")\n",
        "print(dfNotas['Estadistica Aplicada'].loc[2])\n",
        "print(\"\\n\")\n",
        "print(\"Cuarta columna llamada promedio\")\n",
        "promedio = [(np.mean(dfNotas.loc[i])) for i in range(0,dfNotas.shape[0]) ]\n",
        "dfNotas['Promedio'] = promedio\n",
        "print(dfNotas)\n",
        "\n"
      ],
      "execution_count": 79,
      "outputs": [
        {
          "output_type": "stream",
          "text": [
            "Despliegue de todo el data frame\n",
            "   Data Warehouse  Python in Data Science  Estadistica Aplicada\n",
            "0               5                      70                    59\n",
            "1              57                      28                    50\n",
            "2              62                      97                     3\n",
            "3              52                      40                    21\n",
            "4               2                      16                    79\n",
            "5              20                      57                    10\n",
            "6              95                      18                    92\n",
            "7              33                       1                    18\n",
            "8               4                       2                    16\n",
            "9              80                      84                    78\n",
            "\n",
            "\n",
            "Despliegue de las primeras 5 filas\n",
            "   Data Warehouse  Python in Data Science  Estadistica Aplicada\n",
            "0               5                      70                    59\n",
            "1              57                      28                    50\n",
            "2              62                      97                     3\n",
            "3              52                      40                    21\n",
            "4               2                      16                    79\n",
            "\n",
            "\n",
            "Despliegue de las ultimas 5 filas\n",
            "   Data Warehouse  Python in Data Science  Estadistica Aplicada\n",
            "5              20                      57                    10\n",
            "6              95                      18                    92\n",
            "7              33                       1                    18\n",
            "8               4                       2                    16\n",
            "9              80                      84                    78\n",
            "\n",
            "\n",
            "Despliegue del valor registrado en la columna 'Data Warehouse' fila #1\n",
            "5\n",
            "\n",
            "\n",
            "Despliegue del valor registrado en la columna 'Estadistica Aplicada' fila #3\n",
            "3\n",
            "\n",
            "\n",
            "Cuarta columna llamada promedio\n",
            "   Data Warehouse  Python in Data Science  Estadistica Aplicada   Promedio\n",
            "0               5                      70                    59  44.666667\n",
            "1              57                      28                    50  45.000000\n",
            "2              62                      97                     3  54.000000\n",
            "3              52                      40                    21  37.666667\n",
            "4               2                      16                    79  32.333333\n",
            "5              20                      57                    10  29.000000\n",
            "6              95                      18                    92  68.333333\n",
            "7              33                       1                    18  17.333333\n",
            "8               4                       2                    16   7.333333\n",
            "9              80                      84                    78  80.666667\n"
          ],
          "name": "stdout"
        }
      ]
    },
    {
      "cell_type": "markdown",
      "metadata": {
        "id": "wYajuxxVAqzG"
      },
      "source": [
        "# Vectorización"
      ]
    },
    {
      "cell_type": "markdown",
      "metadata": {
        "id": "YwhZtzvRErQc"
      },
      "source": [
        "## Ejericio 4: Vectorización\n",
        "\n",
        "A continuacion, se le presenta un problema el cual debera resolver de dos formas distintas. La primera es utilizando un `for loop`, la segunda usando `vectorización`. Luego debe de comparar comprar el resultado de ambas implementaciones, tanto el valor resultante de la operacion, como el tiempo que toma la ejecucion de cada una.\n",
        "\n",
        "\n",
        "\n",
        "**Problema:**\n",
        "\n",
        "Dada una secuencia de precios historicos para una acción, y suponiendo que solo se le permite realizar una compra y una venta, ¿cuál es la ganancia máxima que se puede obtener? \n",
        "\n",
        "Por ejemplo, dados los precios = (20, 18, 14, 17, 20, 21, 13), el beneficio máximo sería 7, de comprar a 14 y vender a 21. Notar que el arreglo es una secuencia, por lo tanto no es factible solo utilizar los valores menores y mayores, ya que el valor mayor debe de estar obligatoriamente en una posicion futura al menor, por eso el mejor precio de compra es 14 y no 13.\n",
        "\n",
        "Para este ejemplo utilice el siguiente codigo para generar el dataset (secuencia de precios historicos), asegurese de tambien incluir el \"random seed\" para obtener reproducibilidad.  "
      ]
    },
    {
      "cell_type": "code",
      "metadata": {
        "id": "UAAOCkpND6rD",
        "colab": {
          "base_uri": "https://localhost:8080/",
          "height": 1000
        },
        "outputId": "4f04a044-23dc-4d5f-b8e2-ae42396161b4"
      },
      "source": [
        "from time import time\n",
        "# Seed para reproducibilidad\n",
        "np.random.seed(42)\n",
        "# Creamos un arreglo que en su mayoria contiene Nans con algunos \"puntos de inflexion\" (local min/max).\n",
        "precios = np.full(100, fill_value=np.nan)\n",
        "precios[[0, 25, 60, -1]] = [80., 30., 75., 50.]\n",
        "\n",
        "\n",
        "# De manera lineal interpolamos los valores faltantes y agregamos ruido.\n",
        "x = np.arange(len(precios))\n",
        "es_valido = ~np.isnan(precios)\n",
        "precios = np.interp(x=x, xp=x[es_valido], fp=precios[es_valido])\n",
        "plt.plot(x,precios, color='k')\n",
        "precios += np.random.randn(len(precios)) * 2\n",
        "precios\n"
      ],
      "execution_count": 14,
      "outputs": [
        {
          "output_type": "stream",
          "text": [
            "[ 0  1  2  3  4  5  6  7  8  9 10 11 12 13 14 15 16 17 18 19 20 21 22 23\n",
            " 24 25 26 27 28 29 30 31 32 33 34 35 36 37 38 39 40 41 42 43 44 45 46 47\n",
            " 48 49 50 51 52 53 54 55 56 57 58 59 60 61 62 63 64 65 66 67 68 69 70 71\n",
            " 72 73 74 75 76 77 78 79 80 81 82 83 84 85 86 87 88 89 90 91 92 93 94 95\n",
            " 96 97 98 99]\n",
            "[ True False False False False False False False False False False False\n",
            " False False False False False False False False False False False False\n",
            " False  True False False False False False False False False False False\n",
            " False False False False False False False False False False False False\n",
            " False False False False False False False False False False False False\n",
            "  True False False False False False False False False False False False\n",
            " False False False False False False False False False False False False\n",
            " False False False False False False False False False False False False\n",
            " False False False  True]\n",
            "[ 0 25 60 99]\n",
            "[80. 30. 75. 50.]\n",
            "[80.         78.         76.         74.         72.         70.\n",
            " 68.         66.         64.         62.         60.         58.\n",
            " 56.         54.         52.         50.         48.         46.\n",
            " 44.         42.         40.         38.         36.         34.\n",
            " 32.         30.         31.28571429 32.57142857 33.85714286 35.14285714\n",
            " 36.42857143 37.71428571 39.         40.28571429 41.57142857 42.85714286\n",
            " 44.14285714 45.42857143 46.71428571 48.         49.28571429 50.57142857\n",
            " 51.85714286 53.14285714 54.42857143 55.71428571 57.         58.28571429\n",
            " 59.57142857 60.85714286 62.14285714 63.42857143 64.71428571 66.\n",
            " 67.28571429 68.57142857 69.85714286 71.14285714 72.42857143 73.71428571\n",
            " 75.         74.35897436 73.71794872 73.07692308 72.43589744 71.79487179\n",
            " 71.15384615 70.51282051 69.87179487 69.23076923 68.58974359 67.94871795\n",
            " 67.30769231 66.66666667 66.02564103 65.38461538 64.74358974 64.1025641\n",
            " 63.46153846 62.82051282 62.17948718 61.53846154 60.8974359  60.25641026\n",
            " 59.61538462 58.97435897 58.33333333 57.69230769 57.05128205 56.41025641\n",
            " 55.76923077 55.12820513 54.48717949 53.84615385 53.20512821 52.56410256\n",
            " 51.92307692 51.28205128 50.64102564 50.        ]\n"
          ],
          "name": "stdout"
        },
        {
          "output_type": "execute_result",
          "data": {
            "text/plain": [
              "array([80.99342831, 77.7234714 , 77.29537708, 77.04605971, 71.53169325,\n",
              "       69.53172609, 71.15842563, 67.53486946, 63.06105123, 63.08512009,\n",
              "       59.07316461, 57.06854049, 56.48392454, 50.17343951, 48.55016433,\n",
              "       48.87542494, 45.97433776, 46.62849467, 42.18395185, 39.1753926 ,\n",
              "       42.93129754, 37.5484474 , 36.13505641, 31.15050363, 30.91123455,\n",
              "       30.22184518, 28.98372713, 33.32282461, 32.65586548, 34.55946964,\n",
              "       35.2251582 , 41.41884208, 38.97300555, 38.17029243, 43.2165184 ,\n",
              "       40.41545556, 44.56058433, 41.50923118, 44.05791362, 48.39372247,\n",
              "       50.76264745, 50.91416513, 51.62584629, 52.54064975, 51.47152745,\n",
              "       54.2745973 , 56.07872246, 60.39995874, 60.25866515, 57.33106255,\n",
              "       62.79102508, 62.65840687, 63.36044171, 67.22335258, 69.34771333,\n",
              "       70.43398881, 68.17870781, 70.52443239, 73.09109829, 75.66537597,\n",
              "       74.04165152, 73.98765641, 71.50527877, 70.68450983, 74.06094908,\n",
              "       74.50735185, 71.00982591, 72.51988631, 70.59506692, 67.94052972,\n",
              "       69.3125348 , 71.02479108, 67.23604023, 69.79595398, 60.78615082,\n",
              "       67.02842039, 64.91768388, 63.5045494 , 63.64506001, 58.84537499,\n",
              "       61.7401434 , 62.25268668, 63.85322399, 59.21986982, 57.99839741,\n",
              "       57.97084489, 60.16413757, 58.34980991, 55.99176164, 57.43679128,\n",
              "       55.96338587, 57.06549511, 53.0830733 , 53.19082955, 52.4209119 ,\n",
              "       49.63707267, 52.51531748, 51.80416183, 50.65125255, 49.53082573])"
            ]
          },
          "metadata": {
            "tags": []
          },
          "execution_count": 14
        },
        {
          "output_type": "display_data",
          "data": {
            "image/png": "[encoded data removed]",
            "text/plain": [
              "<Figure size 432x288 with 1 Axes>"
            ]
          },
          "metadata": {
            "tags": [],
            "needs_background": "light"
          }
        }
      ]
    },
    {
      "cell_type": "markdown",
      "metadata": {
        "id": "jPwjYDpAPzv8"
      },
      "source": [
        "Ejemplo de lo que se busca calcular: \n",
        "\n",
        "![](data:image/png;base64,iVBORw0KGgoAAAANSUhEUgAAAeYAAAFiCAYAAAAjsnsBAAAgAElEQVR4XuydB1hUxxbH/3Ts2AUrsWAFCxbsvSUxUWM0xhI1sfeuscTee9doEnuescQeYxIbTQUbNiwoCgqiAlKk7vtmcJG27N2d2d27u3O/7315wtwzZ37nXM6duTPnWCgUCgXEJQgIAoKAICAICAKyIGAhArMs7CCUEAQEAUFAEBAEKAERmIUjCAKCgCAgCAgCMiIgArOMjCFUEQQEAUFAEBAERGAWPiAICAKCgCAgCMiIgAjMMjKGUMU0CFSpUgXly5eHlZUVyN7K/PnzY+LEifDw8OAywN27dyMiIgJjx45lljd16lSUK1cOw4cPzySLjOHChQuwsLDAoEGDcPz4cZV9JSYm4uTJk/jyyy810ufvv//Gv//+i0WLFml0n2gsCJg6ARGYTd3CYnx6J6AMaqVKlaJ9+/n5YdiwYTh9+jSKFCmid31y61BdYFaOITcZ169fx5o1a/DLL7/IamxCGUHAWAmIwGyslhN6y5ZA1sBMFO3evTudlbq4uKBXr17o3Lkz7ty5AzL7JYF74cKFiI6ORuHChbFixQqULVuWzrYXL14MMrO0sbFBjx498P3332PdunV4+fIlFixYgNDQUMycORPPnz+nbcjvycw1OTkZs2fPxtWrV5Gamkr7JbLI7D3jpS4wEznt27enuoaFhWHy5Ml49eoVEhIS8Nlnn6Fv3760v5iYGFSvXh179+6Fr68v7Ss+Ph4FChTArFmzUKtWLRw6dIjOkN+9e4caNWqgUqVKOHbsGA3ob968wfTp0/HgwQPkzZsXU6ZMQdOmTREZGUnHce/ePboCQfoaPHgwHcKqVavoyw65SpYsiWXLltH/iksQMHYCIjAbuwWF/rIjkFNgJgFlwoQJcHZ2RseOHTFv3jx07dqVBrTWrVvTINOkSRO6ZLxjxw4axP7880/s378fO3fuTA+Ea9euxfnz59MDM1lmbtCgAYYMGYKQkBB06dKF3vfw4UMa8H799VfKh8xo69Wrh2bNmmkdmJcsWYJ8+fJh5MiRNOj++OOPIIH90qVL6QE2NjYWbdq2wYb1G2h/f/31F1auXIlTp07hyJEjdNyHDx9GhQoV6BiVgZnIcnBwwKRJk+hLwIABA3Dx4kXMnz+f6jt37lwapAkzEoALFSpE9SC8yAvJrl276EuApsvpsnMeoZAgII5LCR8QBPgTyBqYSSAlgYcEqbdv39JA7O/vT2ev5HfLly+nAUp5kYBG/k1mzmSm+d1339FfxcXFIU+ePFi/fj0NzD/99BNcXV1x+fJlGpTINWLECLRq1QpEBzJDJ7NVMvMks9CcLhJYz50/B4dCDpl+/fjxY/qNOeOM+eeff8bZs2fp9/I6derQGSy5MgZYb29vkABOgrDyIi8OBw8exJUrV2gAJYE5631Ex23btqFatWr0d+SFhfBp0aIFtmzZgqpVq9Kfk5UF8nJAVh3IjH3atGlo06YNDdTiEgRMhYCYMZuKJcU4ZEMg6+av0qVL05kgCTpkyVm5NEwUJgGYLEVn/JZLlrS3bt1KZ5ok+HTr1i3T2JRL2WTzF5kBk2Ve5UUCFZmVk+Vessy7Z88eBAQE0JcBsiRcsGDBTLI0WcomQZrM5onO4eHh+PbbbzFq1CgaaJUz3xMnTuD333+ns3zlRQIneckgwV7ZLmtgrlmzJtW3TJkymfQjLybkhcbJyYn+nLyUkL7JDNrHx4fqQwJ+/fr1MWfOHDg6OsrGD4QigoC2BERg1pacuE8QUEEgp6VsZdOsgZl8jyUzTDLrzHqRpW/y3ZYsV5OL7MS2t7enS9RkxkwCEZkxk1mqcsZINpm1bduWftNWXmQJmHy/rVy5MsaNG6d1YM54Y1BQEP2eTQIk+fasDLgkWJJZ7dGjR2lz8p3c3d2dzqBJAFUVmMmMedOmTXSFgFyEE/leTF5iNmzYQDmQiyxtk5eL0aNHp6tDVhIIQzLLJi8A4hIEjJ2ACMzGbkGhv+wIaBKY379/j3bt2tGZoJubG549ewbyHXnp0qX0CNL27dvpd2YyWyXfT8mmKk9Pz/RvzGRmTAIf+W9wcDANyCQoenl50TZkaZtcZLmcLD2zBGayLN6hQwf6LTwlJYXOmEmAJC8Mv/32G/744w/67Zm8GJBgSpa7yTfgzZs304CccWZNdMq4BE5kW1tb06V38n28d+/edCmdBFyyeY28hJANYuQbM1kxIKsK//zzD11tsLS0xL59++gmOjJOcQkCxk5ABGZjt6DQX3YENAnMRPlr167RmSCZ+ZGNTGPGjKHfTclsk2wKI4HWzs6OBl0SgDPuyn7x4gVmzJhBN36Re8mGKBI8lbNkEuRIQCbnqklQJxusMl6aLGWTTVkkEJINXkQ3sjxOdmmTneHkmy/5GflmTgIk6YuMhxwPI9/CCZOMgThrYCY7tclObLIsT74hk6X/5s2bIyoqit5/9+5dGoDJywD5H9kVTn5Odp2TcRctWpTO1MludnEJAsZOQARmY7eg0F8QEAQEAUHApAiIwGxS5hSDEQQEAUFAEDB2AiIwG7sFhf6CgCAgCAgCJkVABGaTMqcYjCAgCAgCgoCxExCB2dgtKPQXBAQBQUAQMCkCsgvM4a/ecQdcpHBevHkbx12uuQkUHPlYXHAUHPkQ4CNF+KM8OJYonpa9j1xmEZjJgHUR8PmY03ikCI58bCU4Co58CPCRIvxRHhxFYOZjB7OTIh5gPiYXHAVHPgT4SBH+KA+OIjDzsYPZSREPMB+TC46CIx8CfKQIf5QHRxGY+djB7KSIB5iPyQVHwZEPAT5ShD/Kg6MIzHzsYHZSxAPMx+SCo+DIhwAfKcIf5cFRBGY+djA7KeIB5mNywVFw5EOAjxThj/LgKAIzHzuYnRTxAPMxueAoOPIhwEeK8Ed5cBSBmY8dzE6KeID5mFxwFBz5EOAjRfijPDiKwMzHDmYnRTzAfEwuOAqOfAjwkSL8UR4cRWDmYwezkyIeYD4mFxwFRz4E+EgR/igPjiIw87GD2UkRDzAfkwuOgiMfAnykCH+UB0fzCcwKBfzuv4J7TScokpP50DdjKeIB5mN8wVFw5EOAjxThj/LgaDaBOe59EkatvojmdUqjfwcXPvTNWIp4gPkYX3AUHPkQ4CNF+KM8OJpNYIZCgfEbPGFlaYFlwxoDFhZ8LGCmUsQDzMfwgqPgyIcAHynCH+XBUWeBOTY2FlOmTEFUVBSSkpIwYsQIFC9eHD/99BMduYuLC+bMmZMrBd5VoDYfDsCV++FYNMQDJQrn4WMBM5UiHmA+hhccBUc+BPhIEf4oD446C8y7d+9GWFgYJkyYQP/bv39/GpgnTZoEV1dX+vMuXbqgRYsWKknwDsz/+D3H3r8DMaBzVTR1deJjATOVIh5gPoYXHAVHPgT4SBH+KA+OOgvMJ06cgI+PD+bNm4cHDx5g5syZCA8Px7///ktHfvz4cQQEBGDq1Kl6C8zPw2Mwe8dlNHEthYGdq/OxgJlKEQ8wH8MLjoIjHwJ8pAh/lAdHnQVmMrxBgwYhODgY0dHR2LRpE+bOnYsjR47QkXt7e+OPP/7AihUr9BaYFQoFxqy9hHx21lg01IOPBcxUiniA+RhecBQc+RDgI0X4ozw46iww//nnn7h69SqdMd+7d49+Yy5QoEB6YPby8sLBgwdzDczJySmwtrbiQ+qDlLnbvXHlTjh+ndUeRQuJ78xc4QphgoAgIAgIAlwJWCjIlJLTNXv2bDRu3BgdOnSgEps2bQorKyucP3+e/vvw4cMIDAykG8RUXby/MZN+Lt56iV9P3MGwL2vAvWpJTqM1PzHizZqPzQVHGXKkeQ4sgJwmBckpaQpznjAgKQkp61YAnT6HVbUafKBoIUX4oxbQcriFlaPOZsw7duxAREQEJk+ejJCQEAwcOBClS5fG8OHD4e7ujmHDhqFv3740eOszML+JTcKkdRfRum4ZfNu+Ch8rmKEUVsczQ2Q5Dllw5OMJXDn26QpAAexO++yWfikUsOj5GVJLOcJi7c98FP8gRREXD5tenZEwYDisuvbgKlsTYVw5atKxibVl5aizwEyOS02fPh2vX79GcnIyxowZQ3dlz5o1C6mpqXBzc8O0adNyNYcuZsyFC+dDr+knULxIHswd1NDE3EF/w2F1PP1pKu+eBEc+9uHJMeWXbbA7vBeJC1bDspZbuoIpPp6wWzgDCcMnwKrjZ3wUF4GZK0e5CGP1R50FZh6AdBGYyYAnrzmPe8GRWDOmGfLlseGhqtnJYHU8swOmYsCCIx9PYOGY+vA+YG0DywqfUGUUb9/A+ruvkFTXA5azF6QrmDp1LKwD7yD19xOAhSWSd2yG9b+nYfk+DsmVqkLR5StYNW+VJuOHb6EoUx4Woc9hFRaClOKlkNqrP6zatE+Tl5yMlE1rYH3hb1gmJiK5oANsot5+nDEnp6iVn9qoBfA2AlZ3biKlSnVYTZ3FDJOFI3PnJiSAlaNZBuZth27gqOcTjO7uBrfKRU3IHfQ3FFbH05+m8u5JcORjH205plz4DzYr5yPFuTIsVm3+GIQnjoT1o3tI3XccsLcHoqNh1fdLJDZuDaspM+j3YNt/TiDhsx6wqOUKi5PHYHP9MlL2HAHyF4Rl17awUCiQ2LwdUL0mLA/vh+WbCCgOnKZ90Pv/Po6kWnWBtp2hePKYztKVS9lS5FumpCCplBNSq9YCHEvD6pu+zDC15cjcsYkJYOVoloH5/JWnWL7/Ojo1KoevWlYyMZfQz3BYHU8/Wsq/F8GRj4204Zi8awfsDuwi27zolTB7Kazq1U8LnJ4XYbdkFhIGjYLVF92Qsncn7Pb/gqRV22BRsRINvCklnZDadzBtb5HwHrarF+B9/6Gw7t6T/j6pfRdYDRudSV7i8s2wrOICy27t6f0Wm36lv8/6jVmS/EYtYDVlJh+AH6Row5GrAiYijJWjWQbm5yGRGLnqAso5FsSMfvVMxBX0OwxWx9OvtvLtTXDkYxuNOCYnI3XBbNj6eWXqPKloCVj88nvaz+hGr0+RWrgYLLbshOK7rwEra1hs3wvF27ew6d8NKXZ2SM1XMJOMlNYdYN1vEA3MiR2+gPXQUfT3qbduwPbHsUiYuwJWlSrDuncXvP+8B6x/GJ4tMFu2bKuxfD4UAY048urUBOWwcjTLwEy+Xc/f6YfgF9FYP645bG35npU2QT/LNiRWxzMHRlLGKDhKoaS+jVSOiqgoYMoo2IQ+y1Foxo1d5Buw7akjSBwzDXZrFiHhu2Gw6vY1kKqAVbc2SGzaFlYTp+coJ1tgDrgF2+mj0wJz7bp0d3dK1ZqwnLM4+4z5i680lq+ekLQWUjlKk2a+rVg5mm1gPvDfQ5z2DcbEXrVRrUIR8/UgLUfO6nhadmtytwmOfEwqhWPqk8ewnDoG1nExKjtNzpMP2H0YsLGBIiwM1j/0opXoFBYWSNl3HBZ50pISpc6aApsbV5DYexAsm7RAavhL4J+/gKo1YPX5l9lnzFkCc+rCn2B99RISu30LC5fqsPjzD9jevJr+jVlT+XwoihmzXDiabWC+/iAc6w4G4PPGzviyuTMve5iNHCl/CM0GBsNABUcGeBluVccxxdsTNktng2yYUne979EP1n0HpM1kR38PmyePkOjeBJaz5qffqoiNg2LFQtj4edFNXuQiS9vJY3+EVZNmaYG545ewHjIyLZDfvgXbaaOROH8VLF1rI/XpE1hOHgnr+Fj6+6TS5WET8hQJA0bAqutX0FS+ujFJ/b06jlLlmHs7Vo5mG5hj45Mwft0lsiqFZm6O+LKJMwoWsDN3f5I8flbHk9yRiTcUHPkYODeOKft3w3bfjvQAqq7HVGsbpO48COQvoK4pkJyC1NAQIG9eWBYrpr59xhYKBRRPggCHwrAoXDjne1nka6YNbS38UQtoOdzCytFsAzNheTvoNfadfYAXr+NgZ2OJDg3K0f/Z21nzsY4JS2F1PBNGo9HQBEeNcKlsnCPHVAVSlsyFnfc5jTtJaNUJVuMma3yfsd8g/JGPBVk5mnVgJiYgWcgu3niBI5eCEB2bCFsrS1R3LoK6LsVRu1IxkYBEhZ+yOh4f9zd+KYIjHxtm4xjzDoopY2DzLEirDkjCD/zyP/qt2Zwu4Y98rM3K0ewDs9IMCYnJOHv1GXzuhCM0Iu27j6WFBZrXdkLfDi58rGVCUlgdz4RQMA1FcGTCl35zRo6KZ89gMXUErN+900h4kkNRpHo0g0XbjrCsbJ7PvPBHjVxGsxUcDUSLwJwDrJevY+EfGI4zV54jLj4Zmye1gKWlpQZYTb+peID52Fhw5Msx5epl2CycAcvkJLWCyZatZMfSSGnaGpZtOsDSqbTae0y9gfBHPhZm5SgCcy522HrsNnxvh2HJUA8UcxC1mzOiYnU8Pu5v/FIERz42JBxfbNkO298257rJS2FpgeQKVZDavDUsW7VTvemKj1pGJ0X4Ix+TsXIUgTkXOxy9FIQ/LwVhfE831HAWObVFYObz0AqO2nFMPnYElv+cggUpANGsNax7fpsmSKGA3eZVSDl1LEfBqVZWSK7mCkXLtrBs1ir9LLJ2Wpj2XawBxbTpSB8dK0cRmHNh7R3wEj8fv4M+7augVd0y0q1iBi1ZHc8MEEkaouAoCRPQozOsE+LTG5Nl6FQbW6TuPAzMGA+bR/czCUqxtUNK7QZQtGoPq4aNAGtx0kIKaeGPUiipb8PKUQTmXBg/Do3Cgp1+aOdeFr3aVlZvDTNqwep4ZoQq16EKjuo9QTF8AKyfP0kvNpHxDpKRS5ngIzl/AaTUbwqLth0y1VFW34NooSQg/JGPL7ByFIE5FzuQJCSj11yEW8WiGN3jY8F0PqYzbimsjmfco+enveCYO8vU6GjY9Pkix6BM7iQz54S2n6L4d33xtmBJfoYxU0nCH/kYnpWjCMxq7DB69QUUzGeL+T804mMxE5HC6ngmgoF5GIKjmsAc/AQ2IwfkGpgTZyyE46ftQYrTiIuNgPBHNn68Vh5EYFZjh3k7/fD8ZTQ2T2wJC0tl5VY+xjNmKeIB5mM9wVE9R6surXINzCl/nEGJ0kVEYFaPUm0L4Y9qEUlqwMpRBGY1mLcdvQ2fO2FYOtQDRcWRqXRarI4nybvNoJHgqN7IFt3aw0rFueRUS0ukHvlH5HhWj1FSC+GPkjCpbcTKUQRmNYj/vPgYRz2fYELP2jRVp7jSCLA6nuAoOEr2gcQkWH3VPtusOZl8Y957HBb58wl/lAwz94biueYDkpWjCMxq7OAT8BLbjt9B3/ZV0FIcmRIzZj7PreCoKcfEJMT17Q7b2ChYW1oiPNUaMxtNwLzhLVCiSB4RmDXlqaI9a0DhpIbRi2HlKAKzGhd4HBKFBbv80L5+WfRsI45MKXGxOp7RP3mcBiA4Sge548RdeN56gRn93PHm3XtsPByApm6OGNCpmgjM0jHm2lL4Ix+QrBxFYFZjB+WRKVJpatRXrnysZgJSWB3PBBBwGYLgKA2jIlWBcesvwcLCAitHNqHnpGZu90X4m3gsHuqBqpWK89n8pVDgxqPXiH2fhMY1HaUpZ0KthD/yMSYrRxGY1dlBocCo1RdRKL84MpURFavjqcNuLr8XHKVZ+lFIFBbu8kMzNyd816kqvYnMnsksunXdMhj3bT3mwBwc9g7/++cB7gZHUvnmuOFT+KM0f1TXipWjCMzqCAOY+9sVhITFiCNTGVixOp4E7GbRRHCUZuY/zj3EKZ9gjP7KFW6VitGbUpJTMX2bDyLfJWLd5FawSk6BlbXmVeDexSXi0PlHtC47SVhSpKAd3kQnYHCXGmhY3bySlgh/lOaP6lqxchSBWR1hAFuPBsD3TjiWDvNA0UKiyhRBxup4ErCbRRPBUZqZZ2zzwevI91g7thlsbKzSbzp/LQQ7//qYJ9ve1gr57G3weZMKdHYt5Vq53x+3n0TCqVg+9GpTCXlsrem+kjZ1y6B3+ypSRJhMG+GPfEzJylEEZgl2OHIhCMe8gjCxV21UqyCOTInALMFpJDZhfYAldmPUzch35GlbvVGncjGM7J55nweZNR++9BhR8Ul4+zYese+TEfIqFkUL2WPRkEaARe5JgRKTUjBy5QWULp4PM79zp3XXk5JTMXLleZQumR+z+tc3anaaKi/8UVNiObdn5SgCswQ7KL9l9W3vgpZ1RTF1EZglOI3EJqwPsMRujLrZmcvB+P3fhxjYqSqaqJgFZ+S46XAArt4Px7yBDeBUIn+uYw8Mfosle69lO3WxeJc/HoVGYcO45rC1/ThDN2qQEpQX/igBkoQmrBxFYJYAWbnxpGPDsujRShyZEoFZgtNIbML6AEvsxqibLdvjj/vPIrFyVFOatz6nKyNH3zth2Hr0Nr5s6ozPmzrnOvbjXkE4fCEII7rVRN0qJdLbHvjvAU77PsOU3nVQpVxho+anifLCHzWhpbotK0cRmCXYgWwOGbv2Uo5LaRJuN8kmrI5nklC0GJTgmDs0clyRPHsVnArix771VDbOyDHufRLGrrlEl6dnD2yQawer/3cDtx6/xqosQd8/MBwbDgWgewtndPbIPbhrYXbZ3iL8kY9pWDmKwCzFDgoFRq6+iMIF7DDv+4ZS7jD5NqyOZ/KAJA5QcMwdlDLznroAmZXj6v9dw63Hb7FkqAeKqchxr/hwFLJAXhssGuKRSZHodwkYt8ET5pa/QPijxAdXTTNWjiIwS7RD2pGpWGye1IImOTD3i9XxzJ2fcvyCY+6esOnQLVwNfIX53zeEY7F8kmbMpJFyt3av1pXQrkG5HO8LDY/BzB2X0bhmKQz6rHq2NpM3eiEhKQVrRjdVu4nMVPxZ+CMfS7JyFIFZoh22HAnA5XvhWDasMYoUspd4l+k2Y3U80yWj2cgER9W8yO7osWsv0u/KiwbnvsM6K8fomASMX++JKmUKYXKfnJfAz/mHYNeZ+zRhSU5Hq5THJBcN9qD5uNMvhQLRsYkomN9OM2MbQWvhj3yMxMpRBGaJdiAbRMhGkUm9aqOqODIlzjFL9Bt1zVgfYHXyjfn3t4NeY+XvNyTlqc+JI9lZ/TAkkn4/LpDDprGtx27D93aYytn42avPsO/sAwz8tBqa1PqYnvPEhw1j0/rWQ8XShYwZcTbdhT/yMScrRxGYJdpBeWSqXwcXtKgjjkyxOp5E7CbfTHBUbeLdZwLxn/9zSTujc+L4l28w/vffQ5Uz4imbvPA+UfVS9dOX0Zj761W0qO2Efh3T0oDGxCViymZvel+DqiUw5MuaJuWjwh/5mJOVowjMEu3w8chUOfRoVUniXabbjNXxTJeMZiMTHFXwUigwcaMXSAKQ1aOb0sQfuV05cYx4G48pW7zhWrEoxvRwy3R75Lv3mLDBK9fNXSR5ychVF1C8SB7MHZS26fPAfw9x2jcYVh/2mSwf2UTlES7NPEEerYU/8rEDK0cRmCXa4V1sIsauE0emlLhYHU8idpNvJjjmbOKnL99h7q9X0KhGKfzwefaNWVnvUsVx1nZfhL2Ow5oxzWBvZ51+29V7Ydh05DZ6tKiIjh7lVfrZ0j3+CHwWifXjmuN9YjKmbfZB/nw2aOdeliY9Ubdb3NgcWPgjH4uxchSBWaodFAqMWHWBpvpTvj1LvdUU27E6niky0WZMgmPO1P68+BhHPZ9g+Jc1Ua/qx8Qfqhir4qiUM+zLGnCv+rEgxd6/A/GP33NM61sXlUo7qDTdoXOPcMLnKSb0rA3/BxF0aZ1sFqvnUhwTN3gifx5beiTLwtI0TmoIf9TmKc5+DytHEZg1sMPcX67gRUQsfXvWpoqNBl3Jvimr48l+gHpSUHDMGfScXy8jNDw220xX08BMSjnO+eUKajoXxtiva6cfdSTPMsmpvX58c9jkUpHq+oNwrDsYQDd/kTPV5MWcHN0iz/+vp+7h4o1QjOvhipoV0ypeGfsl/JGPBVk5isCsgR1+/+cBzlx5lutbPElaYA7nnFkdTwPsJt1UcMxu3jdR7zFpkxcNpuN61pFkf5UcFQosIcvRz6PQsk5p9G1fhW7cIt+OPynjgOl96uYqX5n1T9no+8+qw6NmKfpP5eYwU0pCIvxRkrupbcTKUQRmtYg/NiCz5Rk/+6r8g/H31WcgS2fzBjVA4YKmXR6S1fE0wG7STQXH7OYlS8xkqblP+ypoVbeMJPvnxpGk9SSFKkJexaBjw3Ko4VwEK/ZfR6dG5fBVS/UbOadt8Ub423haFnLuwAaZlq3n/XYFT1+8w1IN8xs8eRFNZ98F8uac+1vSoHXQSPgjH6isHEVg1tAOC3f74/HzSPpdqWiGVH/vE5IxeZMXLTs3oHNVNHWVVgtWw+5l05zV8WQzEAMrIjhmN8Cq368hIOgtlg/3kPyCq44j2by5eI8/Xr6JQ8kieRH2Jg6ju7vBrXJRtR6w48RdkOOSI7rWQl2X4pnae94IxY5T9/BZY2d0bS4tp/bz8Bj8tOMyGlQvgcFd5HXcSh1HtbBEA0qAlaMIzBo6kufNF9hx8i66NKmAL5p9kn73ad+nOPDfI/rvjOceNRRvNM1ZHc9oBqpjRQXHzICVBSjKlMiPWQOk10KWwpEckVq02x8RUe9pp2vHNEO+PDZqLUzyZj8MjUbdKsWypeYkx7lIhjHynXr5sMaS9p5sO3YbPrfDUKSgHZYNb6K2f302kMJRn/oYa1+sHHUWmA8cOICjR4+mcw0ICMC+ffvw008/0Z+5uLhgzpw5uXIPf/WOu11YgSUmpmD8hkuwt7Wm6TnJbsykpBRM3uxNz1ympihQomhezFFT1Yb7wPQskJWjntWVbXfmxpGsLEXFJqFkxhSXGayjPMb0RVNndFFTsjGjUaVyjIiMx5K9/iiS3x7T+qmuVqWJw+z7OxBn/Z5jZLdaqFMl84w6qxzy/ZwkKElVKOivsla10qRfXbSVylEXfZuSTFaOOgvMGSFfvnwZp06dwsOHDzFp0iS4urpiwoQJ6NKlC0iKI2QAACAASURBVFq0aKHSHnIMzETZXX/dx7lrIem7MZXfxD5tVB4PnkfiwfMobBjfHHa2H89NmpLTkbGwOp6p8dB2PObEkSTsWLDHjxaDWTKsERwKZM85v/lwAK7cD8fsAfVRrmQByVg14UheoEl+EBtrK8nyc2sYFBqN+Tuv0p3bJH1nbpdyA6lj0bx48ToOo79yhVsl+ezo1oQjF3gmKoSVo14Cc//+/bFo0SL06dMH//77LzXF8ePHQWbRU6dONbrArNyNWadyMQz7oiambvVGTGwSlg5vjNOXn5pFgXVWxzPR51HjYZkTR2XWLAKpV5vKaFe/bCZeJGCSohUO+e2wUE3RiqygDcmRnMQYv+4SVWnlqKYqT2WQZfpJG72Qx84afdpVwbpDt7J9EtPYgTjfYEiOnIdiUHGsHHUemG/evIm9e/di3LhxGDJkCI4cOUKBeXt7448//sCKFSuMLjBDoaBnI5+/isWXzSrg0IUgtHUvg2/aVoHfvXBsPBKgNqOQQb2GQ+esjsdBBZMQYS4clQUpihWyx5voBJRzLIiZWZaSlc/OZx4V0LXFx/0bUgxtaI47Tt6B582XmNnfHRUcC+ao8knvIBw8H4QerSrS2fXYtZdQ65OiGPt15nShUsarqzaG5qircelbLitHnQfmWbNm4dNPP0WFChUyBWYvLy8cPHgw18CcnJwCa07LTbwNc8IzCJsP3aRirS0t8fOPbeku7Vdv4zFw/hl41HLE9O8a8O5WyBMEjI5A5LtEjF7xL8jO6KWjmmH3qbvwD3yFrdPaZqqxvHjnFZBdzmsntISzk3FVbbp0MxRLfruCXu2q4NuO2Zezk5JTMGj+3/QM9S8z2yFfHlsMmn+G/nv3nI7ZZtmr9vkjr501hnRzNTp7C4X5ErBQkDUZzleHDh1w7Ngx6njt2rXDuXPnaA+HDx9GYGAgpkyZYnwzZgBkWWrCOk8kpqRm3oVNlrU2eNIxrRzRxGQLrLO+EXJ2M6MVZ/IcFQqs+eMmbj56ja9bVUKHhuWgPNlAjheRY0bkIpsqx67Tbhmb3G9ojmRT2+jVF6FqNznJEEYyhWU8O73p0C1cDXyFpVmOXioTrJA61GRzmD4vQ3PU51h12RcrR53OmMPCwjBs2DAcOnSIMhg4cCCGDx8Od3d3+vO+ffuicePGRhmYidI7T9+jafrmfN8QxTOcad5w6BadEWhyDlOXTqIL2ayOpwudjFGmqXNUbozMmBKTvNSOW+uJEkXyYN73aVWb/O6HY+PhAHzWuDy6Nq+osSnlwHHlfn/cfhKJFSMaZ9rYRuY7M7b50tW0pcM90n932vspDpx/hOFda6Key8d84EpmJPv2timt9JpJUA4cNTa+DG9g5ajTwEw2d61evRo///wzRUd2ZZOl7dTUVLi5uWHatGm5IpXrrmyl0mSX6fuklGxnIU95P8Ef5x9LTsAvQ79SqxKr46ntwEwamDJH8pyT0orJZDf2Dw1RML9dulWVL6/zBjaAU4n8UM4eNd2NrRQoB45/X3mG/f88yFb/2TvgJX4+fgeNa5bCoM8+Vsq69/QNlu3LnoFMGeDJ2EjJS31mB5MDR1N49Fk56jQwswKWe2BWNb7A4Lc0BSBJ/2eqtZtZHY/VN0zlflPmePNhBF3GblO3DHq3r5LJZOkzZI8K+NSjPMasuYjCheyx8IeGWn3+kQNHkraTpO8kpzVGdk/7NkyW6Kdv88G72CQsHNwwW7ZAkrO7ajkHTOydlrNbmWAl5cNXxfmDGsCxeH69ubscOOptsDrsiJWjCMw6ME5CYjJGrLyAymUKYUofPkkMdKAmk0hWx2Pq3IRuNmWOyjPJOe1UJkl5SH3z/Hls6C5lUhtZk7SWWV1ALhx/3OqDt9HvsWZsM3pO+uilIPx5KQiqdprP2OaDt+8SaMU6sg9HmWDF3taKbgyb9E1tVC1fRG8eLxeOehuwjjpi5SgCs44MM3vHZYS/jjPZEpGsjqcj7EYn1lQ5Kr8jFy+cViaRZvTIcilTUypzV5NseWTzlDaXXDgqE4iM7+kGp6J5MX2LL+ztrbF4SKMcEw5tO3YHPrdfUkaOxfJh29Hb8LkThmZuTrSk5JDPa6BBjY91pLVho8k9cuGoic5ybMvKUQRmHVmVbAw7fz0Us76rj/KlpGcw0pE63MWyOh53hYxUoKlyPH8tBDv/uo+vWnyCTh4VcrROwKMIrDqQduSwVJG89Dt0TgFcimnlwlH53Zgs38ckJMH3dhgGdq6GJq6OOQ7j7NVn2Hf2Ac0Y1qhaSbqKkMfOCj3bVKab4Xq1rYx27pkTsUjhoW0buXDUVn+53MfKUQRmHVmSnGv85eQ9Wv+1pcTSdTpSRSdiWR1PJ0oZoVBT5bh4lz8ehkRiWS4VosjmSXK0MCY+iWkZm5hdLhzJmMasuwgLWCAuIRnlSxbAzO/cVe6sfhwShQW7/Oh3eFIkY9n+6/T/169WglbD0naXuraPglw4aqu/XO5j5SgCs44sGRoRi5k/+2bbiamj7vQultXx9K6wTDs0RY7hb+Ixbas3alRwwPheaZuaVF37zz4AOR40Z1ADWu9Y20tOHJXf1slYpn5bF5XLOqgcFkk8MmLFBZoJraJTAZy9+hwTetamlad+3OZLl7S/61RVWywa3ycnjhorL6MbWDmKwKwjY5Kzi6NWX0ChfHZYQPL+mtjF6ngmhkPr4ZgixyMXgnDMKwg/fFYdjWqWypVNUnIqImMSMuUB0AamnDh6BbzA9uN3Ud+lBIZ2VV9vec6vlxEaHodC+W3oLHvNqGZISE7BqNUXUbtSMYz6Sn/Zv+TEURs/kMs9rBxFYNahJZXnEdeNbYa89urrvupQFe6iWR2Pu0JGKtDUOJIX0imbvBH7PgmrRjaFrS2fCk7qzCsnjuT89sXrL+BerYSkes/K/ShkjA2qlsCQL2uC5OMfvPQcnB0LcitPqY4h+b2cOErRV65tWDmKwKxDyx6+8AjHvZ6C7NCs4VxUhz3pXzSr4+lfY3n2aGoclWf4pZRA5GkRY+aoTNdJeAzuUgMNq6ftwp64wRPWVhZYPFR1dkSeDEVg5keT1R9FYOZni2yS/APDseFQAD2n2bFheR32pH/RrI6nf43l2aOpcdxx4i48b73A5G9qw0Wcv5XkdMFh72i1OisLC6we0zR9dY0scYdFxGHjxJaS5PBoZGr+yIOJNjJYOYrArA11ifeEvYnH9K3e8KhZCt9nSMUn8XZZN2N1PFkPTo/KmRRHhQJj1l6CjbUllg1vLHI8S/QjsvQ9eZM3KpQqkJ4xjNy66vdrCAh6i03jW2T7JED+trx6G4uaFYtJ7EVaM5PyR2lD1kkrVo4iMOvELGlCFakKDF9xHqWK58VsEysByep4OsRuVKJNiePryHhM3uz98TupHi1h7BxJdSorKwuaLUx5KZOPZK0+RX6/9sAN3Hj0mp79LlVU+93sWU1k7Bz16HK5dsXKUQRmHVty7m9XEBIWi00Tm8PS0lLHvelPPKvj6U9TefdkShz97oVj45GA9PKO+iRvShyV3A789xCnfYPxY796+CRLfWqS+vPlmziVqT61ZW+KHLVlwXIfK0cRmFnoS7h3x8k78Lz5kvubrYSuddqE1fF0qpwRCTcljn+ce4hTPsF6/75MzG1KHJXue9r3KQ789wiju7vBrXKGzaMKBYYtP09rwRcuYIdlwxrDwjJ7ylNtHgNT5KgNB9Z7WDmKwMxqATX3n7kcjN//fZit5qqOu9W5eFbH07mCRtKBKXFcsc8fd55GYsO45rC3s9arBUyJoxIc2URHNtORBCMk0Yjyio5JwLj1nun/JglJqjvzKXRhihz16ogfOmPlKAKzjq12J+gNVvx+HZ83dsaXzZ113Jv+xLM6nv40lXdPJsNRocDI1RdRKJ+tQRLqmAzHDO4aEPQaq36/ge4tnNHZ4+PfDmUaz09KFwL5/w1rlMTgz2twcXRT5MgFjIZCWDmKwKwhcE2bK99uM9Zo1VSGHNuzOp4cx2QInUyFo7IWMc8goYk9TIVjxjE/ffkOc3+9grbuZfBN24/1rH3vhGHr0dvo3a4KSBGMyOgErBrdlMsqhSly1MSPeLVl5SgCMy9LqJLz4QhJXjtrLBrqoeve9Caf1fH0pqjMOzIVjpdvh2HLsdvo1aYy2tXXXzUkpXlNhWNGd30bHY+JG73RsHoJDO7yMbXnSe8gHDwfhHE9XBH08h2OXAzCwE5V0STDcre2bm+KHLVlwXIfK0cRmFnoS7x3+V5/3AuOxMYcziNKFCG7ZqyOJ7sBGUghU+F44L8HOO37TG3RBl1hNhWOGfmQPOJDl59D9fIOmPDNx2IgyhSe875vCDtrS3pEzaWsAyZ/m3vBECnsTZGjlHHzbsPKUQRm3hbJQd7evwNpBZ2Z/d1RwbGgHnrUfResjqd7DY2jB1PhuGyPP+4/i8SG8c1hZ6vfjV/E0qbCMavXjlp1AYUL2mHuoIbpv8qaeIS8+N8NjsSSoR4o5pCHyfFNlSMTFC1uZuUoArMW0DW95cK1EPz2131uy02a9q+L9qyOpwudjFGmKXAkhStGrrqAIgXtQWZxhrhMgWNO3KZv9UE8KQgyuln6r8nP4t4nYfWHn3nefIEdJ+/ii6bO6NKUbYOpqXLUt0+ychSBWQ8WU+6ibOdeFr3aVtZDj7rvgtXxdK+hcfRgChxfvo6ltYMNmXrWFDjm5LFLdvvhwfMobJvcip5VJi9BQ5edR5mS+TCzf316C8kaNn79JRTMZ4vFQzwAC+3PNJsqR33/NWDlKAKzHixGHpwRqy5k+1akh6511gWr4+lMMSMTbAocfQJeYtvxO/imbWW0ddf/xi9TXsreeOgW/AJfYfXopiiQ1xaR795jwgYvuLuUwLAMtZ63H78Dr4CXGP5lTdSrWkLrp8AU/FHrwXO8kZWjCMwcjZGbqCmbvJCYlJJpSUpPXeukG1bH04lSRijUFDjuOxuIs1efY3rfeqhYupBBrGAKHHMCt+uv+zh3LQRzBzVA6eL58SgkCgt3+aFTo3L4qmWl9FtIUYuZ23xQ1MEe8wc1hJW1dul/TZWjvp2SlaMIzHqy2Lo/buL6wwisHtUUBfLZ6qlX3XXD6ni608y4JJsCx4W7/REUEkU3ftnafCzCoE9LmALHnHj9efExjno+waRetVG1QhH4BrzE1uN30Ld9FbSsWybTLcpNpuRzGflsps1lqhy1YcFyDytHEZhZ6Gtw7+Hzj3Hc+wkm9qqNahX4pM/ToHvuTVkdj7tCRirQ2DmSkoVk41cxh7x0Vmeoy9g5quL2n/9z7D4TiCGf10CDGiVxwisIhy6QM8xuqFkxQ/5sADFxiZi6xRuWFhZYPNQjva6zJjYxVY6aMODRlpWjCMw8rCBBhqETMEhQUaMmrI6nUWcm3NjYOYa8isGs7ZfR1M0RAzpVM5iljJ2jKnDKil3KxC2/nrqHizdCMf/7hnAslr3c42nvpzhw/hE6NiyHHq0+LnVLNYypcpQ6fl7tWDmKwMzLEmrkvHgVgxky+APGa7isjsdLD2OXY+wclUd1clpa1adtjJ2jKlYPnkVi8R7/9PKOK/f74/aTSGya0CLHzwZJySkgJSGjYhJpznJNzzWr4khWRjYduY1KpQuhQ8Ny+jStUfbF6o8iMOvJ7CnJqRi24jzKlsqffsxBT13rpBtWx9OJUkYo1Ng57jkTiH/9DZ88x9g5qnJd5VG05m6O6N+pGqZt8abHozKea856r/I7dL0qxdHczQnPwt/h+atYvItLwHedqqNIIXuVT4oqjsqd9yWL5MXCwY2M8EnTr8qs/igCsx7tRZb8IiLjsGF8C1gwnDXUo8oaP8By0M2YdGB9gA091vk7/RD8IhobJrSAjZY7gXmMwdg5qmJAEomMWn0RtSsVw8jutTBk6TmUdSyImf3qqcRGzjrP33kVT168y9ZG3cawnDgqUhWYud0XL17HgZyQ3jSR2Nowm/x4+Io+ZLD6owjM+rDShz62HrsN39thWDLEA8UKs6XO06PaOXbF6niG1l8u/RszR1Iv+JcTd1HesYDBV4GMmWOuvqhQYPDScyjnWBAju9agZ5gbVC2BIV9+LGqR0/2h4TE44RuMUoXzoEyJ/LC0tMDaP26iRW0n9OtYVaMX7qv3wugyNgnKCgCzB9RHuZIF5PIIyVIPVn8UgVmPZlVWhXEsmhdWVpZITk6ljt6nXRVuhc71NRxWx9OXnnLvxyg5KhQ44f2E7g7OZ2+NsT3cQGoDG/IySo4SgU3c4AkrSwv80KU6Fu3yz3aGWYoYUhBj2PJzqFKmECb3UT3bzsqRzL5n77iM0FexNHnM31ef4fvPqtMsb+JSTYDVH0Vg1qN3kfqqS/f6IzlZARsbS/qwxcQnoYlrKQzsXF2PmrB3xep47BqYhgS5cyQJLchVulg+Wu+XLGvuOfsA5BhP0YJ2GPd17Rx3B+vbOnLnyMJjzq+XERYRh74dq+JneobZBS3rltZY5PQt3vTvzdoxzVSm7czK0T8wHBsOBaBRjVJo5loKy/ZdT9+IprECZnQDqz+KwGxAZyF/5EasOm/wM6DaIGB1PG36NMV75MyRZJOavtU7HXuRgnbIY2eNkFexKF08H8Z/7QaHAqo3EunTXnLmyMpBWU3q00blccLnKcb1dENN58xnmKX0sf7gTVx7kHuSo0wcFQrM+e0Knr2MwfwfGiJfHhuMXXuJfu8e9ZWrlC7Ntg2rP4rAbGDXWbzLH49Co7BxQnOj2lDB6ngGxi6b7uXMUXmG1qVMIVhbW+B5RBw9hlOjggOGfllLqwQWugIvZ46sYyazZO+AlzTX/p2nkVjwQ0OUKpr9DLO6fpRJjiZ/Uxsu5XNOcpSR442HEfS7dMZv2mPXXoS9rRUWD22srjuz/j2rP4rAbGD32XsmEP/I4LiJphhYHU/T/ky1vZw5KvdEjO7uBrfKaTM0ku/dUGk3c/MBOXNk9d0D/z3Ead9gGhDfJ6ZgM9kBr0XqU+WRpz7tq6BVlnSeSh2VHMl56EV7/PH0xbv0PN2kDan9fC84EhtVnKNmHaup3M/qjyIwG9gTLt0MxS8n76Ffexe00OK7kaHUZ3U8Q+ktt37lzHHHibsgO6+1naHpk7WcObJyOO37FAf+e0TFkNKOq0Y11Urk05fRmPvrVbSpWwa921fJUQbh6H39OX45eZcej6rvUgJDM1SxUk4kZn3njvKlCmqlhzncxOqPIjAb2EuCw95hzi9X0MzNCd91Un2MwcBqZuue1fHkNh5D6SNnjkt3+yHweRS2TGypdbUifXGVM0dWBuTliLwkkauSUyFMy+UMc259JSamYNjK8yrLz5Lfn7jyDCcuPqanRUgA797yE9jZWqeLPecfgl1n7mPgp9XQpJYj69BM9n5WfxSB2cCuQTKCDV95HqVL5sesD4XPDaySpO5ZHU9SJ2bQSM4cx627BFtrSywZJv/viXLmyOrGAUGvser3G1SMlDPMufVHy88mp2abdZNEJvN/u4qwt/Eg2b0GdKqKymUdsolSpgjNWnaSdYymdj+rP4rALAOPmPvbFYSExWDj+Bayn5kocbE6ngywy0IFuXIkaR9HrLpAN3qN71VXFqxyU0KuHHmAI8cs5/56hYoiO7O7tayotdg1B27g5qPX9MgU2WWtvLwCXmD78btoVa8MerasqPIbdmx8EkavuQjXikUxpoeb1nqY+o2s/igCsww8ZOfpezh/PdSoMuqwOp4MsMtCBblyVAYDskmIbBaS+yVXjjy4vY2Ox8SNacfWWPeiKDeSTetbF5VKf5wRbzt2Bz63X2LthJbIZ2OZq9rj11+CtaUFlg5vwmN4JimD1R9FYJaBW5z3D8FO8t2mU1U0cXOSgUbqVWB1PPU9mEcLuXL0ux+OjYcDoCw3KHdryJUjD27kc9fg5eeoqPE93VBDizPMSj08b4Rix6l76N/BBc3rfEhSolBg3HpP2mTXTx0R8TomV7WVFa42jGtOk86IKzsBVn8UgVkGXvXkRTTm/XYVreuWwbdGMDshyFgdTwbYZaGCXDme8AqiKTfHfOUK10rFZMEqNyXkypEXuFGrLiAuIZl5h/zjkCgs2OWHdu5lQQpakIvk1Z654zIa1iiJGQMbIfxV9uIXGcex/+wDmprzx3718ImTYVOx8uLLWw6rP4rAzNsiWsgjZwaHr7iACk4F8WNf1XlstRCts1tYHU9nihmZYLly3HHyDjxvvmQOBPoyh1w58hr/9K0+CHsTh82MlZ2U1apqOhfGuJ51qHpnLgfj938f0p3WXVtXURuYL94Ixa+n7tFTJOQ0ibjEjJnZB+T6AJOSkK/exNGD+xaWpI6LvC+5cpQ3Nf4PsK7Gu3C3Px4/jzSKo1LmsIJzyvsJXkW9z7UylFRfIEUxSNXZZR++Ea/+3zXcevwWK0Y0RpVPiqsNzCR/+sJdfmhfvyx6tkmbdYsrMwHWv486nTEfPXoUP//8M6ytrTF69Gi4uLhg8uTJSElJQfHixbFs2TLY2tqqtKm6JRVtnIEVmDZ9SrlHOUOZ931DOBXTPN2elD54tpErR55j1IcsfXIky5h7/3mIogXsULZEPpQpkQ/lSxZA4YLZS5COW3sRdkaUelGfHPXhF7rsI+M3YisrC4xedZGWoSV/e6RwVO7Yzzjr1qW+xihbCsfcxqWzwPz27Vv06tULBw8eRFxcHNatW4fk5GQ0b94cnTp1wsqVK1GqVCn07t1bBGYAZ68+w76zD/DDZ9XRyAhKqrE6njE+bLrQWZ8clVmbso4ja1EEY/zDq0+OuvADfcrc93cgzvo9x4x+7khITMay/dfTvzlL5ThpoydSUhVYOVJ6FjKSTCngcQQ6NaxgFKuCLDaRylFVHzoLzCdPnsTly5fx008/pffdunVrnD59ms6Sr127hh07dtCAreoypxmzsS0PsToei9Ob0r365Lh0jz8Cn0XSSkEkkcSD55E45ROcLeuc8qhUbqkb5WYDfXKU29g11Sf9FEjnanjxJpb6wLgebqhZsaikGTPpT7n8vW5sM8nFTEie7bvBkRj+ZU3Uq1pCU7WNqj2rP+osMG/duhWPHz9GZGQkoqOjMWrUKIwbPw4+3j4UcHBwMF3W3r9/v0rgyckpsLa2MiqDaKssmaV8Pf0EalQsikXDpb+FatufuM+8CJCC99/MOInCheyxaXIbOngy4/l21imaaOLn6W1hQT48Arh0PQRLdl3FD1/URJfm2iezMC/CxjPa24/fYOqGi+jWohJuPIrA09Bo7JvfSaOjTzuOBuDw+UdYPKIZanySc6WqjERevY3HwPln6I9Ie3KfuKQRsFCQp5fTRQKzv78/1q9fj9DQUPTr1w/vE96nB+anT59iypQpuQZmc5oxE+wztvkgMiYB68Y2T/8jyckc3MWwvhFyV8hIBeqL45uo95i0yStbUYKNh27BL/AVlgzxoN8ZyXXcMwiHLwZhXA9X1Kwo/6NSRGd9cTRSN8uktjJ7l7NTITwJjULVcg6Y2Dstu5tUjp43X2DHybuSE56c9n6KA+cfwc7aEgnJqZj1XX2UL1XAFHDmOAapHFUB0NmMmXxbjoiIwJAhQ2jfnTt3RkJCAk6cOAF7e3u6zL17926sXbtWpXHMLTBvPXYbvrfDsGiIB0p8+CMpV89ldTy5jkvfeumL440Hr7H24A10a+6MTxs7pw9TWZSgb3sXtPxQ3Wz78TvwCniJRYM9UKJI9o1h+mYkpT99cZSiizG0IZv7ouOSqKrdWzijs0eaT0jlqMy90KZeGfRupz4z3Kztvgh7HYeBnath6/E7aOJaCgM7VzcGVFrpKJWj3gNzWFgYpk6diu3btyMqKgrdunVD06ZN4e7uji+++ALz58+nu7R79OghAvMHAsrzhMO+rAH3qiW1cgh93cTqePrSU+796Ivjca8gHL4QhNFfucItQ8KQ8LfxmLbFG/WqFMfwbrUorsW7/PEoNIrW/bWyzj09o1z46oujXMbLqseyPf649yySipnZ3x0VHNNKOErlqKxUVS3DbFuVTs/DYzB7x2XUqVwMI7rVwo/bfPE6Mh7LRzRBgXyqT+WwjtGQ90vlqPfATDok348PHDhA+x4+fDhq1apFl6/JzNnJyQmLFi2Cjc3HROpZlTS3GfP9p2+wdN91dGxYDj1aVTKkX6ntm9Xx1HZgJg30xXHT4QBcvR+O5cM9Mh+PUigwZbM34t4n08IG5Az92LUXkcfOmq7cGMulL47GwkOdnrv+uo9z10KQP48NVo9qmr5LWhOOc3ZcxrPwGExXkwHsj3MP6QYz5aavf/yeY+/fgfiymTM+b/Jx9Uadzsb0e0045jQunS1l84BoboGZvIWSP4r589pgydDGsj5SwOp4PPzDFGToi+OPW30QHZsIsouWZpfIcP126i4u3HhBj8+ULJIHo1ZfRK1PCmPs12mZoYzh0hdHY2AhRUdlcKzvUgJDu9ZMv0UTjoHBb7Fk7zWULp4Ps/vXz3F1hWxbmrTRC+8TU7BqVBPYWFuBbHSduNETtjZWWDa0sdGsykjhqmyjCUcRmDVYqtHECDzb/nLyLi7dfMGcrJ6nTqocRxcvTrrWW27yWR9gKeNJTCIpX8+jSlkHTP42ewnHq/fCsOnIbfr9mRRIIHnbpX47lNK/Ptrog6M+xqGvPl6+jsWi3f40bwI5JqVtQFFWxlM1+1WuAjZ1dcSAztXS+1Hm2x78WXU0NIK8DZrahdUfxYxZU+I6bv84NAoLdvrB3aUEhmV4k9VxtxqLZ3U8jTs00Rv0wVHdRp2YuESMXXuJ7s5t7lYaW47dxjdtK6Ote1mjoa4PjkYDg0FRTTmS3NszfvZFbFwSfhrYAI5ZshYqJxqTvqmNquU/HquKeBuPqVu8Ud6pEGb2M476AJpg1ZRjVtkiMGtCWx9tFQrM2nEZLyPisGJUExTIK8/Nn1ah5AAAIABJREFUEayOpw+UxtCHPjhKKTow95crCHkVgw4NyuGEz1NkzQYmd5b64Ch3Bjz004bj9cBXWHfoFiqWccC0b+ukH/UkxXnGrfOEva0Vlg1vnO0I6Lo/buL6w4hMm894jEEOMrThmFFvEZjlYMUsOvx95Rn2//MAPVtXQvsG5WSoofTdm7JUXkZKsT7AUoZCNtqQb4oZd99mvU+5QadQfltExSRmOtcspQ9Dt9EHR0OPUR/9a8tx06FbuBr4Cp81dkb18oVgY2OFoBfv6CavTo3K4auW2TezXn8QjnUHA4xis6um7LXlqOxHBGZNieuhPUkAMH7dJRQvnAfzv2+YbbOOHlRQ2wWr46ntwEwa6IOjMhUnqVxGNtzkdN158gYr9l+nv7KysMDmSS1gaWkcR6WIzvrgaA4uqS3H6JiEtCXt98nZMM0Z2ABlSuTP9nMyoyafUPLZ22DpMA9Z/p3T1ubachSBWVvierpvy5EAXL4Xjul966FiafkVI2d1PD1hlH03OueoUNBd1gXz2WLB4EYqeZA/kqTKUGJKKkoWzoOFRnRUSgRmfm7O4o+hEbEgs+DEJCA5NQWJial0ctGuvuq9CsqkSrmt5vAbnf4ksXBU+rNSW64pOXkg0MWuX1ZgPMYlRcbdJ2+wfP912WbIMRaOUlgbso2uOSpTcUrZTKgsB+hasSjG9HAzJBaN+9Y1R40VMtIb9M1R+X06x+VuhQJ3nryFS1kHoztSxcpR0lJ2eHg4Vq1ahYCAAPoBv3bt2hg7diyKFFGfvJzFP805MJPzf1M3e+NdXCLNkJPXXnUiFhbG2t7L6nja9mtq9+ma442HEVj7x010be5Mv//ldinzGbd1L4Nv2qpPsygnW+iao5zGqktd9M1RuZxNEp0sGZp5OVt51rpjw7Lo0aqyLofNXTYrR0mBeejQoWjWrBkaNGgAEjC8vLzg4+ODzZs3cx9QRoHmHJgJB2Uaxb7tq6Bl3TI6Za2pcFbH07Q/U22va47pqTi7u8Gt8sfzqjnxfB0VjzV/3MS3bSvDJcPRFmNgr2uOxsCAh46G4Ljt6G343AnLtDmRJCEhGeli4pNgbWmJRUMaoUgh+2xDvB30GqWL5YNDgey/48FDWxmsHCUF5v79++O3337LpCOpFrVz505t9ZZ0n7kH5sh37zF5ozddpfimbSW0rFNaNhskWB1PkgOYQSNdc9x8OABX7odj2bDGOf5hMxXEuuZoKpzUjcMQHHNaziZ53clLZYUPFbCaujliQKePCUrIOC7fDqNn7htWL4HBXT5mL1M3Rn38npWjpMD89ddf0/KNJUqkFbd++fIlXcrOrZYyj8Gbe2AmDAMevca243fomyP5Tti/k4sslrVZHY+Hf5iCDF1zJKk4o2ITsT6HVJymwE85Bl1zNCVWuY3FEByzLmdHxyRi6lZvWh964Q+NsGCXH15ExGLe9w3TE5iQ1Z3ZO64gPiEZxR3ssXhoY1mZiJWjpMB87tw5zJgxA8WLF6dL2a9fv8bChQvp8rYuLxGY0+i+jY7H1qN3EPg8ijrh8K61UK6kYWuZsjqeLv3GmGTrkmN6Ks4yhTC5j+llV8poZ11yNCZ/YtXVUBwzLmdfuBGK89dD0a+DC1rUKU13epPzznWrFKfVqRSpCizb64/7z6NosRUSnEkOeDntw2HlKCkwE2O/f/8eT548oXZ3dnaGnZ0dqw+ovV8E5o+IUlNT8efFJzju/QSkwPkMA6exY3U8tcY3kwa65JieirNuGfRub1ybuTQ1vy45aqqLMbc3FMdrga+w/tAtWhryxsPXtJjK3EEN0s7SKxRYsNsfj0Oi8GO/eiAnVg5dCKKlSkm9cFK5alKv2qhaQbebkTWxKyvHXAPzwYMH0b17d6xZsyZHncaMGaOJrhq3FYE5O7KZP/vi7bsErB/XXGOePG9gdTyeuhizLF1yVKbi7N/BBc3J/gQTvnTJ0YSxZRuaoTgmJaVg7LpLtAoVuUZ2q4U6VYqn66esZOVULB/CXsehYH5bkMQl94LfYuPhAHzdqhI6NJRPlkRWjrkG5sOHD6Nr1670+3JO18iRI3XqsyIwZ8e75sAN3Hz02uBLN6yOp1PHMSLhuuS44+QdeN58Scs5OjsVNCIqmquqS46aa2O8dxiS49ajAfC9E47KpR0wtU+dbBtdlX/7SNHSiR9myKQYxpQt3rLbAMbKUdJSdkpKCq5duwZ3d3fqcf/++y9atmyp85R9IjBnf8D3nAnEv/7PMXtAfYN+Z2Z1POP908VXc11xJBWjJm3wQqECtlg02EPWtb15ENUVRx66GZMMQ3J8FBKF7SfuYvDn1VHBMfuL5PPwGCz47SraNyxPz+XTS6HAyA+Z7RbmktlO3zZg5SgpMJONX4ULF8aECRPo+BYvXoyoqCgsWrRIp+MVgTk73r98g/G//x5iVLdaqJ1hqUenhshBOKvj6VtfufanK44nvILod7hebSrnmhJRrlw01UtXHDXVw9jby51jUnIqbKwz53Bfvtcfd4MjsWFcc7qTWw4XK0dJgblPnz7YvXt3pvH27dsXu3bt0ikDEZiz4/W7H06/qRj6Dy6r4+nUcYxIuC44piSn0uU9slt1xYgmsvljpUuz6IKjLvWVq2xj5Hjgv4c47RuMKb3roEq5wrJAy8pRUmAmG8C2b98OBwcHOuiwsDCMGjUK//vf/3QKQQTm7HiVO23buZdFr7aGS1PH6ng6dRwjEq4LjsrEC23rlcE37Ux7N7bS1LrgaERuxE1VY+ToeycMW4/eNvhkJaMRWDlKCsz//fcfZs6cCUdHR5DvzSR39oIFC9CiRQtuDpGTIBGYs1MhubNJqTRyrGBkd1ed8s9NOKvjGUxxmXWsC46LdvrhUWgUrRBVonAemY1YN+rogqNuNJW3VGPkGPYmHtO3eqNRjVL44fPqsgDMylFSYCYjJeeYHz58SNNDfvLJJ8iTR/cPvAjMOfiYQoHhK8+jZOG8mD2wgcGckNXxDKa4zDrmzfFxaBQW7PSDW8WiGG1kFaJYTMObI4suxnyvMXIkSa9GrrqAIgXtaXYwOVysHCUFZrLRixSsePXqFZYvX053ZZMKU6K6lGFcgJxljopJwNqxhjvLzOp4hiEnv155c1QeOSHHSarJKOGCrsnz5qhrfeUq31g5Lt3jj8Bnkdg4vgVsba0MjpeVo6TATL4n169fHydPnqT5sU+fPg2SfGTbtm06BSBmzDnjXf2/G7j12LBnmVkdT6eOY0TCeXJUFj0pVSwv5pLVFAty4tM8Lp4czYNYzqM0Vo77zz7A31efYXrfeqhYupDBTcjKUVJg/vbbb7Fnzx5k3IktdmUbzva7/rqPc9dCaOabMiXyG0QRVscziNIy7JQnR2VFHnPI9JXVlDw5ytBN9KaSsXL0CniB7cfvone7KmhTz/Alclk5Sg7Mv/76KwYNGkRLPUZERGDIkCF01qzLS8yYc6arLGg/qntN1K6cVvFL3xer4+lbX7n2x5PjjG0+eBP9HqtHN4OtjeGX8/TJnCdHfeott76MlWNoRCzIJ74mtRwx8NPM5SENwZiVo6TATJawt2zZQr8xu7q64tatW/jxxx/RuXNnnY5ZBOac8V69F4ZNR27T41Lk2JQhLlbHM4TOcuyTF0dSBm/yJm+4ViyKMWa06UtpU14c5egj+tTJWDmSilMjVp1HMYe8tPiFoS9WjpICMxkkqcFM0nLa2tqiVq1a6bWZdQlABOac6QaFRmP+zqtoX78serYxzFlmVsfTpd8Yk2xeHM9fC8HOv+7jm7aV0dZAL2uG5M6LoyHHIIe+jZnj4l3+9JjgxgnNYWNt2BUjVo6SAvPYsWOxevVqvfuNCMw5I4+OTcS4dZdo2bPh3Wrp3S6kQ1bHM4jSMuyUF8eNh27BL/AVzYtNSuGZ28WLo7lxyzpeY+a490wg/vF/LouiLawcJQVmckSqQoUKqFOnDp0xK6+yZXW7jCoCs4o/EwoFhi0/D8di+TBrQH2D/C1hdTyDKC3DTnlwJCk4x6y7iPx5bLB4iIdZ7cYWS9l8nZqHP/LVSLo0z5svsOPkXfRt74KWdUuDnG8mJxUK5rWDVZb82tKlateSlaOkwNy6dWuaWIQMVHmRf//zzz/aaS3xLhGYVYMiG33IzNlQZ5lZHU+iC5h8Mx4cHzyLxOI9/mhVtwz6tDePFJymNNOTk5Pz8EdDjYdUn5q94zKKFrSjS9kRkfFITlWgWCF7TPymDoo76G8liZVjroE5JiYGGzduxOPHj2nJx/79+8PGxkZv3EVgVo169f+u4dbjtwarqMLqeHpzIpl3xIPj4QuPcNzrKQy5S9/QmHlwNPQY5NC/MXMkK0eTNnshKiYR+eytUbxwHuS3t0ZA0FsULmCHyb3r6i1FLSvHXAPzxIkT6SYvklzkzJkzKFWqFMaMGaM3/xGBWTVq5VlmsgOxdHH9n2VmdTy9OZHMO+LBce5vV/D8ZQzWjm1mFpWkcjIpD44ydxW9qGfsHBMTU5Ccmoq89h8nkMrjpYXy22JK73ooqYc9GKwccw3M33zzDfbt20cdghSv+O6773Re6jGj94nArPpZPOkdhIPngzD6K1e4VSqml4c2Yyesjqd3hWXaoWSOCgX+vBQESwsLfN6kQvp35HexiRi77hKqlXPAxN51ZTpK3aslmaPuVTHqHkyV49+Xg7H/34comM8Wk7+pQ/fn5HSREy/XH0TgU4/yTKk9WTnmGpizZvfSR7YvEZilPdfK0n6GynTD6njSRmn6raRyPHYpCEcuBVEgAzpXRVNXJ/r/vQNe4ufjd/BVi0/QyaOC6QNTMUKpHM0WkMSBmzLHs1efYd/ZB/Sb8+KhHnTfVNZr1e/X6NK3s1MhjP2qFvLn/bjZWSJC2oyVY66BuV+/fjTTl/LK+m9NFNWmrZgxq6b2OCQKC3b5oWPDsujRSv9nmVkdTxt/MMV7pHBUBt+iBe0Rn5CMlNRUzOxfn771bzt2Gz63wzB7QH2UK1nAFBFJGpMUjpIEmXkjU+e47eht+NzJ+XlJSk7B6FUX6YaxVIUCpYrkxfiebihaSPNNY6wccw3MJJFI0aJF01319evX9N9kdzZ52zh37pxO3VgEZtV4o2MSMG69J9yrFMcwA5xlZnU8nTqOEQlXx5HsuF6+7xpsbKxogv4XEbHYeCSA7iuY0a8epmzyosvaq0Y2MctjUkpTq+NoRC5hUFVNnaPvnTBsPXob3Vs4o7OHcybWd568wYr912niJisrC5zyCaabxsZ97abxPh5WjrkG5pCQkFydpHTp0jp1IhGYc8GrPMtcIh9m9df/WWZWx9Op4xiR8Nw4hr+Jx4JdVxH/Phlje7qh+ocyjsqNf9XLO+DO00g0rlkKgz6TR4F4Q6EX/siHvKlzjIlLxNi1l1ClrAMmf5t5T8Yf5x7SYExmyTWci+Iv32D877+HyGtnjR/71UOpojl/l86JPCvHXAMzH1NrL0UE5tzZTd/qg9j4JKwZ00x7yFreyep4WnZrcrep4kjOYJK39/DIeHzXqSqauaV9UyZXUlIK5u28ipBXsfTfQz6vgQY1SpocG00GJPxRE1qq25oDx3k7/fDsRTRWj2maaff2nB2XERoRh3XjPhaBuXgjFL+euodKToUwpU8dWFpaSgLNylEEZkmY5dlIuVFh4/jmsLO11quSrI6nV2Vl3FlOHIPD3mHV/27QBDJdmlTAF80+yTYCUk1n3i9XkJSSSl/M8uXRX34BOeIU/sjHKubA8c+Lj3HU8wlGdK2Fui7FKThlmuMaFRwwvlfmmfTWowHwvROe4/K3KuqsHEVg5uPPBpGy8/Q9nL8eivmDGsBRz2eZWR3PIMBk2GlWjoHBb7H24E3EJ6SgV5vKaFdfddrbe0/fIDomyexny8Sswh/5OLc5cHwUEoWFu/zQorYT+nWsSsEpN1j2aFERHT3KZ4JJViVnbvdFTGwSTYFcpoT6vBGsHEVg5uPPBpGiPMs8rocralbU71lmVsczCDAZdqrk+D4hGf4PXuG3k/fp5spBn1dHw+rmvTytibmEP2pCy7yXskmJyDFrL8Le1gpLhzWmmybJkUMSnFWdbgh4FIFVB27SoDyrn7va3Nus/igCMx9/NogU5Q5Dkh+Z5EnW58XqePrUVZZ9KRQ4dy0UT8NjcD/4LcLfxIFkoreztsTI7q6o7lxElmrLVSnhj3wsYy4ctxwJwOV74Zj/fUM4Fs2L8Rs8QQL2ylFNczzfTOj+duouLtx4gc8aO6Nr88w7urPSZ+UoAjMffzaIFOWSTKdG5fBVy0p61YHV8fSqrAw7I0vWS/Zeo5rlsbNGhZL5UbZkATR1ddT4aIYMh6d3lYQ/8kFuLhyVlah6ta5EX4Jnbb+MRtVL4ocuNVSCJKtapN3bdwmY1rcuPnEqpLItK0edBWZfX1+MGTsGlSulJb+oUqUKvv/+e0yePJmm9yxevDiWLVuWqYxk1lGKXdm5P2ykpNmEDV5wdymBYV1r8nkyJUphdTyJ3Zhss91nAvGf/3NM618flUrlN+szyDyMLPyRB0Xz+VYf/S4B4zZ4oqZzYXo06vd/H2Lgp9XQpJZjriDvP32DZfuu02IYPw1ooDJtJ6s/6jQw79mzB2vXrk0f6LRp09C8eXN06tQJK1eupEUxevfurRKECMy5P2zkW+TQZedQpmR+mglKnxer4+lTV7n1RZbMyNJZaqoCu+d0xOs3aceexKU9AeGP2rPLeKc5cSQlIl9GxKGiUwHcfx6FFSMaw6GAvVqQB/57gNO+zzJtHst6EytHvQZmUtf59OnTdJZ87do17NixA+vWrROBWa0rqG5A6jK/iX6PZcOb6PXIDKvjMQzZ6G9VLmOTs8mT+9WHLl5AjR6ShgMQ/qghMBXNzYmjMqEIQVG6eD7MHdRQEsSk5FTM++0KzSOgqogQK0edBuY5c+agXLlyiIqKwsiRIzFh4gT4ePvQwQcHB9Nl7f3796uEkZycAmtrK0mwzLXR4XMPsePYbfRuXwXfdKhmrhiMatxbDt3Ecc8gzB3sgTouJYxKd6GsIGAqBG49jMD0TZ50OF2aV8QPX0j/HPjkRTTGrTyPfHltsH5iazgU0K7YhRSWFgqyNsrpCgsLg5+fH122fvbsGUgBjLi4OFy+fJn28PTpU0yZMiXXwKyLmQTrmwwnPNzEJCQmY/Imb3rEhmz9t7fTT6IRU+PIzSBqBBE7TdjgiZQUBVaOaAJHx0JixswBvvBHDhDN7Dx4SnIqRq+9iPeJKRjX0w01nT/WhZBCU1lKsnalYhjVvVamfSKs/qizGXPWgXXv3h23bt3CzZs3YW9vTwP07t27M32DznqPCMxS3AN09nX4YhByOhwvTYLmrVgdT/MeTeMOUpRi8R5/uvt6QOdqIjEGJ7MKf+QD0tw47jh5B7cevcGSoR6wtdFsdZa8ZK/cf43mq8+aS4KVo84C89GjR/Hq1SsMGjSI/vfrr79Go0aN6P+++OILzJ8/Hy4uLujRo4dKjxKBWdrDFvc+CZM3ecHGyhJLhjXW2MGk9ZK5FavjadOnKdyz9+9A/OP3PD1RvuDIx6qCo+CoDQEya05JVajcXa1OJjkZc+TSE3zqUR7FHT6Wh2T1R50F5piYGEycOBHR0dFISkqi35irVatGl68TEhLg5OSERYsWwcZGdY5fEZjVucXH3x++8AjHvZ6iV9vKaOeuOo2jdIm5t2R1PF56GJMc5TJ2cnIqVo1sSrMHCY58LCg4Co58CPCRwuqPOgvMPIYnArN0iqScGZk157W3waIhHrCxtkRiYgp874YhPiGZ1hglqed4XayOx0sPY5LzMCQSi3b5o6mbIwZ0StuoJzjysaDgKDjyIcBHCqs/isDMxw6ykPL7Pw9w5sozfN7YGfGJSfC89ZIGZXLN7O+OCo4FuenJ6njcFDEiQfvOBuLs1eeZNpoIjnwMKDgKjnwI8JHC6o8iMPOxgyykkO8dUzb5IDk1lepTMJ8tKjoVxLUHERqVLJMyGFbHk9KHKbUhy9iTNnohMSklfRlbzJj5WVj4Ix+WgqM8OIrAzMcOspHy95VnuPPkDZrUKoU6lYojLjEZY9deQrVyDpjYO3OdURalxQOsGb2g0GjM33kVTVxLYWDn6uk3C46acVTVWnAUHPkQ4COF1R9FYOZjB1lLmfPrZYSGx2LduObcdmyzOp6sgelAObITm+zIHvRZNTSu+TEfr+DIB7bgKDjyIcBHCqs/isDMxw6ylqJMPafNIXoxQ+Fj2p2n7+H89dBs9V5ZH2A+2hm/FMGRjw0FR3lwFIGZjx1kLeXukzdYvv863Znds01atS/WSzzAmhFctNMPQS+isWFCC7pjXnkJjppxFC+KfHgJjvLmKAKzbu0jC+lJySkYveoiihfJIzlRuzrFRUBRR+jj78nGrxErzqNY4ez8BUfpHHNrKTgKjnwI8JHC6o8iMPOxg+ylrPr9GgKC3mLViCYoWMCOWV9Wx2NWwIgEhL+Nx7Qt3mhYoyQGf565ELvgyMeQgqPgyIcAHyms/igCMx87yF7KX77B+N9/D7NtPtJWcVbH07ZfY7zPPzAcGw4F5JjLXHDkY1HBUXDkQ4CPFFZ/FIGZjx1kL+V5eAxIYfBGNUrhh88/HtfRVnFWx9O2X2O878+Lj3HU80l6fuyMYxAc+VhUcBQc+RDgI4XVH0Vg5mMH+UtRKDBufVrt0VUjmzCn52R1PPkD46fh+oM3aZKXnD4jCI58OAuOgiMfAnyksPqjCMx87GAUUrYeuw3f22GYN7ABnErkpzp73nqBf6+FYvgX1VG00MfqKOoGxOp46uSb0u+nbvZCfEIK1oxumu2FSHDkY2nBUXDkQ4CPFFZ/FIGZjx2MQgoJwjtO3EXP1pVoBaqDFx7hlE8w1b1fexe0qFta8jhYHU9yR0be8H1CMkasuoDq5R0w4ZvsmdcERz4GFhwFRz4E+Ehh9UcRmPnYwSikkFzaEzZ4waWsA/LYWeP6wwgUzGuD6LgktKpbBn3aV5E8DlbHk9yRkTd8FBKFhbv8VJ4hFxz5GFhwFBz5EOAjhdUfRWDmYwejkTLzZ1+ERsRSfWtUcMD3n9bA+A2eqFKmECb3qSd5HKyOJ7kjI294zj8Eu87cx8DO1dDE9WMqTuWwBEc+BhYcBUc+BPhIYfVHEZj52MFopBy+8AjHvZ6iTd0y6NW2EiwtLTF9qw/exSZi3dhmkjeFsTqe0QBjVHTXX/dx7loIZn1XH+VLFcgmTXBkBPzhdsFRcORDgI8UVn8UgZmPHYxGSkpyKsIi4+FULF+6zhsP3YJf4CssH+6BwgWlbQBjdTyjAcao6OJd/ngUGoWNE5rDxtpKBGZGnqpuF/7IB6zgKA+OIjDzsYNRSzl2KQhHLgVhXA831KxYVNJYxAOsHhNJxTly1QUUKWiPed83zPEGwVE9RyktBEcplNS3ERzVM5LSgpWjCMxSKJt4G//7r7Dh8C181eITdPKoIGm0rI4nqRMjbxQRGY8pm73RoOr/2zsTsKqqLY7/GUXAKQWRSXACFQUFNRRQ0zTnIecps1cqmkPm0GCv0rLE2XIqTctyqjRzepoDgoAgIDKoqCAgIiCKIDLD+/ahi6DAPXD3hXPvXef73veSu886e//W2ud/9myKmSMdSJiV6E+KRz5wiaM0OJIw8/GDSlupai9n6jqsuWuvRqdi85/heLO3LQa72pIw1xyl3DtJUOQiEpWAOIrCJDeRohxJmOUiVv8EwulH67zRrLEhvnynu6gCKxp4oh6i4omeDxF0hkPrZiTMSvQnxSMfuMRRGhxJmPn4QeWtrNgThIQHT7F1UW/olDkvmFrMNXetmEl19CKsOd+ydxJH4siHAB8risYjCTMfP6i8lZ9OXIfvtSSsfKc7WpiUbNdZ1aVo4MmzL/Xf2frkwz4x+GJGNzRuYFBhdj/e7o+n2fnYNL/yZWiazpGXn4kjH5LEURocSZj5+EHlrZwJSsD+s7cwc1hHdO/YXG55NL0CbzgYhvCYNEwfZA93R/OXeOXlFcJznTfsrRvjw0kvb8Upu0HTOcoNNJEJiKNIUPTBzQeUkjmSMNeKm6T/kBt3H8Fr/1UMdbXBqN6t5GZY01+ECzf7IiMrDz06mOK94S/PuI65/wRf/RyM/s6WmPh65VudajpHuYEmMgFxFAlKyYLCJxeqb0XReCRhVv0Y4FKCzGd5WLDJF46tm2LeWEe5NhUNPLkPkHCCjKe5pUdoNjTSr/AYTVkPxNuD7eHW+eUWNbWY+TpYk+ORJ0niyIemohxJmPn4QS2ssFagno42Vnv2lFseRQNP7gMknCAiNg3rD4SV5pBtHlJ2JzX2w9p9IYiKS8faOT0rHYNm6TSZI08XE0c+NImjNDiSMPPxg1pYWbc/BJF30/H9Qg8Y1NOtskyaXIFP+MfiD+9YoXch7E4aJr3eDv2cLUt5PcvJx/yNvrA2M8byt7oRx1qoHZocjzzxEkc+NBXlSMLMxw9qYeXA2Vs4HZSAj6c6o7VFIxKUSghsOxyBoJspWDzRCV77rsK5nQk8R3cqTe0f8QA/HovCKA9bDO1Z8cYi1JXNt8oo+iLkmxvVtUYc+fhOUY4kzHz8oBZWLl1Lwq4T1zF1gB36dLXQaGH+9XQ02FnKy99ygZa2VjkWZU/jWrLVHzl5Bdg43x1aWiXpth6OwJWbKVgxozvMTateeqZoBVaLwONQCOLIASINrfCByIEjCTM3V6i+obgHGfhy9xX07WqJKQMqmUlcXAyfa0no6WQJneIi1S90JSVYsuUS0jJy8ek0F9iaNyxNlZtXgDnrLpYug9p1/DouhSeVHuuYX1CEBZt8YFxfD9/OcpV7jCYJCp8QIo7EkQ8BPlYUjUcSZj5+UAsr+fmFmL3WG+0sG2HJFOcKy3Q3KQMr9lzBay5WmNy/rVqU+8VC5P3Lgf19pLsIB/imAAAgAElEQVQthvV63h3NWtFf/xKMAd2sML5fWwREPMAPx6Iwrm8bDOxhjcjYNKw7EIbXXawwQQQfRSuwWjqgBoUijjWAVsEtxFEaHEmY+fhBbayU7abFv12zZQt3NvgefjsTDXvrJlg8qYvalLtsQeKTM/HFT0HCn9paNMayqc83CDkfcg97T0djxpD26NWpBdIzc7Doez90bt0U88c64pf/3cSF0EQsmegEu5avyOVDL0K5iEQlII6iMMlNRBzlIhKVQFGOJMyiMGtOoq1/huNKdCrWeLqiScP6LxWcTWpik5saGOphwzx3tQQTGJmM7X9HCmVjo8abFrjD0EBP+Peek9dxMSyp3PjxJzsCkP40F5vmuWPpdn+wFveGeW7Q1taWy0fRCiz3ARqSgDjycTRxlAZHEmY+flAbK/JORPr0hwAkpT0Tysv2gDaqXyJY6nT95RODo5fuCl360feewHOkA5ztTYUifrknCInJWdjygUfpYR+yVjJbNsV6E17taIZ3h3UQhYRehKIwyU1EHOUiEpWAOIrCJDeRohxJmOUi1qwEYbfSsOmPMAzvZYMR7uW35szJLcDc9RdR/C+ST6Y5o5V51cuqVJHe9iMRCLyRIgjyliMRcOvcAm8Pbo/CgiJ4rrsIi+ZG+KzM+uTgmynYcjhCmPDFDq0oK+Tyyq9oBZZnX1N+J458PE0cpcGRhJmPH9TGCtscY94GH7S1bISlL0wAuxH3SFi3a2Sgi6ycArwztD16OrRQm7LLCvLFrkAkP36G7xZ6YOHmS9DT1cYaz55IfJiFz3YGlgq1LL1sO1P2b11tLWHplLwNWmT30ouQT/gQR+LIhwAfK4rGIwkzHz+olRXZ2cybF7qjnv7zHcBO+t/F794x6NPFQpjgNKynLUZ6VL2BhqqBKS4uhucab5iZGOK/07tjx9EIXI5KEY7DjE3OxM5j11/a6YuVkQl2YupTdGrVFAvGyd9rnISZb2Qo+iLkmxvVtUYc+fhOUY4kzHz8oFZW/rxwB8cD4rBwrCMcWjctLduWP8MRHJ2KZZO74ptfQ9Dd3hQzR758spIUYZwOjIeNWQO0s25SZfbSnmSDbRoiOzWKrVFma5XZcig2wYvtjPbR1K5oY9G4nJ39/9zCmSsJmDbADr3lbM5S9kZFK7AUWddFnogjH+rEURocSZj5+EGtrETdfYS1+6/ijR7WGNu3TWnZFm+5hIKCIqx7301oVbZoZoTP3q56L2gpgJEtabIwMcKX7/SoMkuydcgj3Gwx3M0WspOkOto0RlERcCM+XejifrGrmj3jfGgihrjaQF9PR3Sx6UUoGlWVCYkjceRDgI8VReORhJmPH9TKClvu8/76izA3NRK6c9nFzh5mp0/JjoX8YncQUh49Ew68qGi9s5SA3EpIF1r47Fr1nitMX3l5GZgsv7LjGmeP7AgX++bCn9mY8/2HWdDT00FDQz18PdOVW/EUrcDcMqLihogjHwcSR2lwJGHm4we1s7LmtxChdcgmMrElUWG3H2LT79cw0s0Ww9xs8ePx6/APT8L6993AziSW8iXbnYvlcWzv1njDtWWl2ZUtffrv291g3byBkE7Wtc/+28XOFLNH8eu+pxchn8ghjsSRDwE+VhSNRxJmPn5QOyvHLsXisE9s6dKfIxdj8bdfLBaOd4SDbVOcuByPP87fFsab21qVH2+VGgxZWVi+bM0b4dNpFW83yn6XfZBsWdS7tEv6ZtwjrN53VSjWm71tMdiV34Q3RSuw1FjXVX6IIx/yxFEaHJUqzDk5ORgyZAjmzJkDV1dXLFmyBIWFhTAxMYGXlxf09atuaaWkZvKhVMYKBZ44pLI9odkM7KkD7bDhYCjCYx5j4zw3GBvqI/TOI3x36CpmDLJHL0dzcUbrKNVPJ6/DNywJTRsaIC0jp9JdzVj2PvjOF3o62vh2ds/S3LL1y/M2+SAnr/ClCXGKFoniUVGCJfcTR+LIhwAfK4rGo1KFef369fD19cXkyZMRFBQEDw8PDBo0COvWrYOZmRkmTZpUJQUSZj5BUhMrMjFqZFwPX7/bA/M2+sDQQBffzCoRrJSMXHy05RKGvNoSo/u0rskjau2etftCEBWXLsysPnj+doXLnVhm2Bru9zf4wMG2CRaOL78PODvKMTQ6FWvn9kIDjl33ilbgWoMo8QcRRz4OIo7S4Kg0Yb5z544gwPb29rCwsMB3332HU6dOCa3k0NBQ7Nq1C5s3byZh5hMHSrGy8VAYrt1Jw9JJXfDtb6HllkfpGOhh+uf/g3M7E3iO7qSU5/MyunSrH/IKivDf6S7CgRPtrRvjw0nPD6aQPSf2fgZW/nwF/V0sMbF/+WMvs7Lzhda2bNyZV97oRciHJHEkjnwI8LGiaDwqTZjfe+89LF++HEeOHBGEebXXagT4Bwiljo+PF7q19+/fT8LMJw6UYuVMYDz2n7stbJoRHpOG8a+1wYDu1sKzTJoZY9zHx9G0kYHcJUhKyZxIo0VFRZjl5Y2W5g3xyVRnfPVLMGITn2D9PDc0MCw/lCJbszx1gB36VGMtssisVJhM0QqsyLPV6V7iyMebxFEaHJUizEyM79+/D09PT6FV/KIwx8XFYenSpXKFuaCgELq64teE8kFKVp63IJ9g3toLpUC+meOOjq2eH2U4b5037qdk4ODXQ6Gtzc5hkt7Fttb8z8oz8OhigcVTXPDn+dv46Vgk3h/vhAHdy8/O/vlEFA6dvYWvZ/dCpzbNpFcYyhERIAIaR0CrmO1HyOFasGABEhISoKOjg6SkpNJJXsePH4eBgQECAwOxd+9ebNq0iVrMHHgrywQLhwWbfIWDGZjsbvmgN/T1Sz6U2Bfdlzv8EXQzpcrJVMrKm1i70fGPhW74oa42GNW7FVLTs7Fsm3/p+cll7ch2Nls/txcaGtcT+wiF0lELRSF8pTcTR+LIhwAfK4rGo1JazGWLJmsxs3FlFxcXjBgxAitXroSdnR3Gjh1LwswnDpRmZdvhCEF8X9w1iwXO9j+u4phfHBZPcIK9zfOWtNIyUwPDsu7ptwbaCa1mdsk2DGHd2bJzltnfl/94GY8zc/DdgtrbNEXRClwDJGp5C3Hk41biKA2OtSbMbm5uQvd1bm4uzM3NsWrVKujpVX2WL83K5hMkiljxDk3Ez/+7+dKJSixwDp+LFvaRru7+0Irkp7r3ys5WXjTeCR1sSz4e/r4UiyM+sXhveEf06FCyu5dsLNqqRUMsr2Kdc3WfLy89vQjlERL3O3EUx0leKuIoj5C43xXlqHRhFleMilORMCtCj8+9bDbyzmNRGNrLptzZyyxw/K/ew9e/BGNANyuM79eWzwM5W2F594t4gFUzXWHapGQrzqTUp/h0ZyDY/tcLx3WBlrYWUh5l46Md/nB1MMN/hnbgnIvKzSlagWstoxJ/EHHk4yDiKA2OJMx8/KBxVljgxMSlYf4mXzi1aYb3x3SWJIPVv4YgOiEdWz/sI5yrLFzFxVizLxTX49Ph5tgC09+wF5aFsS1Hee/sJQ8KvQjlERL3O3EUx0leKuIoj5C43xXlSMIsjjOleoGAEHgpGcKGHI2M9bHy3VclyWjJlksoKgbWzOlVLn9sM5E1B64iLikTvZ3Mhdb0ofN3MGdUJ3S1M6m1sihagWstoxJ/EHHk4yDiKA2OJMx8/KBxVmQVeMXPwUhIysC2xb2hrf1vi1QiNNjuZTPXXEBby0ZYOuXl/bFZNz1rOcenPEX9errIzi3Aiv/0gHkzo1orAb0I+aAmjsSRDwE+VhSNRxJmPn7QOCuywNvxdyQuRybjm1muMGlc+XGKdQFItjTq1Y7N8e6wjhVm4emzPKzeF4rE1Cxoa2mBHV5R2uVdC5lWtALXQhZV4hHEkY+biKM0OJIw8/GDxlmRVeCjvrH4yzcWH4x3REfbppLicOPuI3jtv4phPW0x0qPyE6Eys/KEdA3r61a4VacyC0UvQj50iSNx5EOAjxVF45GEmY8fNM6KLPAuRyVjx9FITOzfFv1drCTFwSfsPnafvCHqBKxiNhCtBWhp1e4OZopWYEkBr8PMEEc+8ImjNDiSMPPxg8ZZkVXgu0kZWLHnCvo5WwqnNknpOnwxFsf8YiW9AQq9CPlEDHEkjnwI8LGiaDySMPPxg8ZZkQVeTm6BMDObzWpe8Z/ukpoA9sPfkQiITMa3s1zRTGLj37KAUbQCa1zgVVJg4sgnEoijNDiSMPPxg8ZZKVuBfz51A95X76M2T2USA/zrvSGIuZeO7R/2gY5sDbOYG2sxDb0I+cAmjsSRDwE+VhSNRxJmPn7QOCtlAy/jaa5wMEQ9fR1hhy2DerqS4PHh95eEmdarPXtKIj8VZULRCizZgtVyxogjH+DEURocSZj5+EHjrLxYgWX7Tw/t2RKjPFrXOY/8giLMXnMBdlaNsXhy1zrPT2UZoBchH9cQR+LIhwAfK4rGIwkzHz9onJUXAy8vrxDLdvgjO7sAX8/sgSYN63ZNs2zv654OZninFve+rm4gKFqBq/s8dU1PHPl4ljhKgyMJMx8/aJyViirwpWtJ2HXiOqQghlGxj7D2wFWMcLPFcLfK1zDXtePoRcjHA8SROPIhwMeKovFIwszHDxpnpaLAY2uBP98dhMSUp1g+vRtamjWoMy6y4ypnDGmPXp1a1Fk+5D1Y0Qosz76m/E4c+XiaOEqDIwkzHz9onJXKKnDU3UdYu/9qnZ84ddg7Bsf872LppC5oZ91Esv6hFyEf1xBH4siHAB8risYjCTMfP2iclaoCb9k2P+TmFWL9PPc647L9SAQCb6TAa3ZPvNLIoM7yIe/BilZgefY15XfiyMfTxFEaHEmY+fhB46xUVYE3HgorOd94vjuM6uvVCZtVPwcjNikD2xf3gZZ27W6zWZ0C04uwOrQqT0sciSMfAnysKBqPJMx8/KBxVqoKvEPnb+HU5QR8PNUZrS0a1QmbhZt9UU9PG9/Mku4aZgZG0QpcJ3Al+FDiyMcpxFEaHEmY+fhB46xUVYGrc3iEMsDl5xdi1lpvdGjZGIsmSncNMwkzP++ToPBhSRylwZGEmY8fNM5KVRX4dmI6Vv0SgkGvWmNMnza1yqa4uBh/eN/ByYB49HYyx7Q37Gv1+dV6WHExntUrQlJKBqyMG0JfV6dat1Pi5wRIUPhEA3GUBkcSZj5+0DgrVVXgrOx8zNvoU+szs/PyC/Hj31EIjk5F8yb1sWi8E5pK8PCKvIJC7IwMg/etG8jPzxNihx032c7CGrOcnGHdoKHGxZOiBSZBUZRgyf3EURocSZj5+EHjrMirwPM3+sDQQFfYO7s2rozMXGz48xrikjJhb9UYnqM71dnEM3nlXXTuNOIfJmOIgyOGd7RDStpTRKY9xF/XwzG5c1cMtGklzwT9/gIBefFIwMQRII7iOMlLpShHEmZ5hOn3CgnIC7xv9wbj1r0n2PphH+gp+WSnjKw8rNgThEcZucJmIm8NtJPsaVJn4mKxzc8b07r3xIjW7cq1UPILCpFXXAgjPX2cT4jDvoireJyZAaP6hujbuh2mtXcQWtZRD1OxIcgPji0sceVeHJ5lP0NLEzNMd3DE3usRiE1JRgNDQwyz64BhrUqGEnaGhyE8JQlNDY1xIzkRrMvf2coG87t0h66OtvB7XMZjuJhZwDsuFll5eVjeywNfXvJGZvYzoWVvaGCIvm3aYnqHzoJNWT4mOjjBO+EukjIyMK1TF/SysKz1WiMvHms9Qyr6QOLIx3GKciRh5uMHjbMiL/B2n7wBNgls5Tvd0cLEWKl8jlyMxd9+sRjqaoNRHrasX1ipzxNj/MajNAQ8SMTIVu3Q2OD5Oup1wYEIuH0D+8dNgbaWdoVdh1dTkrHi7Em0sbDCQNs2CE1Ogt+tGxjt1A2T23dEQFIivC6cQZOGjTDYrgNYafcFX0ZhURG62rRFd3NzXLwXhxuJCfh19CRh7PqbQD8E3YlG55a2cDGzRNCDewiPi8Vct77oa9Wy9HdjowZwtLCAjpYOxrVrj4PR19HZxBSN6xnA7/49nLsejg9690cvc8vSfGhpa6OzlQ2aGhrBw8IKnUxMxSDimkZePHJ9mBobI458nKsoRxJmPn7QOCvyAu90YDwOnLsNz5EOcLZX3ou6sKAIH271Q0FBEdbO7QV9vbqdQJWclYUdYcG4GhcjxISlaXNs7DeoND4+ungOiemP8PPwMcLfKuL4lb8vwuJjsGf0JNTXKzlCc9apY8gtyMNPQ0eXCuL6IaNh3bBkPHr+2ZPQ09bBmr4DhH/HpD/G4pN/YWnfAehuZi4Ib0xaKnYMGlGal7eO/oH2Zi2wrHtP4fcbyUn4YfBI6Ok8Z/gkNxeBD+4jITMTT3Jz4BsdhVGOLpjSwaE0H5/3H1wnYly20smLR42roDUsMHGsIbgXblOUIwkzHz9onBV5gRdx5yHWH7qGUe62GNpLeYdIBN9MwZbDEejvYomJ/dvVmR+e5efj56hwnL0ZiaLCwtJ8NG38CnYMGl767/XBgbh06zr2j50qdCFXxJGJbF5hEbYOGFJ639orAQiIuY1D46Y8F+aho0snii29eBYFBYVY+1qJMD/IysKco4ewwKM/3C0sKxTmJRfOIj37qSDWFQl3SEoyVl88Bx1dHdg0M0HT+kbwu30Dwzt1wbQOnSrMR105QF481lW+VO25xJGPxxTlSMLMxw8aZ0Ve4KWmZ2PZNn/06Ngc7w3rqDQ+a34LwfX4dHz1bg+YNTVS2nMqM8zGao/G3MLB8FDkZGeXS9bWwhoLnHvAzOh5vk7HxWC730WM79oD4+zalxPm7PwC5BYWYEPIZVxPTMDe0RNLW6/zzp7Ek6xn2DP8zQoFcdnFc8gvKBAtzCzfk48chGWTZljdp1+Fwvyxz3kkPn4ktKJlS7nGH/oVQzp2JmGu9UirnQfKq9e1kwvVf4qiHEmYVT8G6qQE8gKPnTTludYbLUyN8Nlb3ZSSx6SHWfj0x8t1tpEIG+vdGRqER0/Sy5WPtZJnOneHs6nZy+UuLsa8c6fw4GEq+rV3wKhOHfAwLVOYlX30RgSmODrDQFcXm3zO4dU2dhjRxg5XHiThz7Ar6GvvgDlOzjUW5vCke1jYwx16Oto4dvsWQu7ehmevPuhnbVOhMHsF+SM4LhYLe/WBsZ4ezsTfhc/NSIxwdCZhVkpE171RefW67nOoGjlQlCMJs2r4WXK5FBN4n+0MxMPHz/D9ot7CbOKaXmy2ckziE7SzalJu3+t9Z6LxT/A9pY9jv5jv2CdPsDX0Cu4kJZT7ydDQCOMcnEpmQldRXtbtvf1aKAJiolFQUCDY0NHWRmtzS8xx6gbLBg2wO+oajoVfRXFRkfC7Y8tWWNq9J+rp6pYK86Zho2FhXDLG/GKLOfXZM8z66yAWevSH279d2SGxt1GspY2iwgJo6+hiqIMj3urQSbh/dZA/bj9MKTcGzcaVV/ieR1r6IyGNlakZ7qUmY0RnZ0wtM8ZcNh819bGi94mJR0WfoQn3E0c+XlaUIwkzHz9onBUxgbftcASCbqZgjacrmjSsX2NGZ4ISsP/sLXRp20zoFtfX10FeXiE++N5XmOzlNatnrSyPSs/JwQ/hobh8J1pYbiS7mMgNaO+AKfYOpZO1xBa2qD6QmJIJM0PDcpOu2P3sgyThaQaaGxkJS6gUuWRjyN8PGIoneXl4xaCeMCtczBWfmQFDHV00MzQUk7xO0oiJxzrJmIo9lDjycZiiHEmY+fhB46yICby/fGJw9NJdYQeuDrav1JjRjqMRuByVItxvbWaM+W92RnjMI7AlWcN72WCEu3I35GACuS86Cieiwkt36pIVhi1PmunYpcaiJYZjjcGVubGiyV087ErFRm1xlEp5lZUP4siHrKIcSZj5+EHjrIgJvMDIZGz/OxIT+rfF6y5WNWa0/MfLeJSRg+7tTXExLAmNjPVhoKeD1PQceHm6onED5Z23zDYE2RsWgqdZmeXyz7p1Z3ftDrsmNf/gYAbFcKwxuDI3noi5g3tPM/FeZyce5iRno7Y4Sq7gnDNEHPkAVZQjCTMfP2icFTGBF5+ciS9+CkKfLhaYOtCuRozyC4qESWStzRth2ZQu+F9gAg6dvw3Wkdy1nQnmjC4ZI+V9XUtNwfarV/DgYUlLXXY1bNAQbzu5wMPSmssjxXDk8iA1N0Ic+TiYOEqDIwkzHz9onBUxFZgdKsFE1d66MT6cVLPjFysS95Cbqfjf5XhMHtgO1s0bcGV//2kmtoYFIyr+bjm7+voGGOXgiDfb2EFHR9zYrJiMieEoxo6mpyGOfCKAOEqDIwkzHz9onBWxFXjpVj/kFxZh3Vy3GjG6FJ6EXcevY+oAO/TpalEjG6U3sQlblcyWzsrPw+7IcHjfjBS2tpRdbLZ0r7bt8U4nRxgrOAGrosyL5ahYwdX/buLIx8fEURocSZj5+EHjrIitwBsOhiI85jE2L3CHoYFetTkdOHsLp4MS8PFUZ7S2aFTt+9kNbPLWV4G+6GFuiUE2rcvZKCouwp+3o/FnxFXk5uSU+629VUvMdnIuXZJUo4fLuUksR2U8W51sEkc+3iSO0uBIwszHDxpnRWwF3v/PLZy5koBPpjmjlXn1hXXd/hBE3k3H9ws9YFCvZN/o6lxPcnLxqe853E9NhqGRMXYOHlW6i9WlxHvYdTUI6RlPypk0bWqCmU4ucDJtXp1H1SitWI41Mq5BNxFHPs4mjtLgSMLMxw8aZ0VsBfYOScTPp29ixpD2wpGM1b0WbvJBPX0dfDOrZ3VvRdyTJ/jM+59yM6qHdOoKd0tLbAsJwt3kpHI2jYyMMalzV7zRsvZOqBLLsdqF17AbiCMfhxNHaXAkYebjB42zIrYCR8c/xre/hWLQq9YY06fkbGCxV8bTXCz87pKwscjcN0vOABZ7Bac8gNfF88jPzy13C9uBrOzmIOxHXV09DOrYCZPadSxtTYt9jqLpxHJU9Dnqfj9x5ONh4igNjiTMfPygcVbEVuDMrDws2OxbI3GNjE3DugNh1d5E5O87t7Dnin/pdpaVOYeJdLdW7fBuJye8Ur/mO5Mp4nyxHBV5hibcSxz5eJk4SoMjCTMfP2icFdEVmB3asNEHhUXF6OnQAk5tm8LeqomoLTTZkqiD56txpnNxMbZeC8U/Udfk+qNFM1N80M0VrRo3kZtWmQlEc1RmJtTANnHk40TiKA2OJMx8/KBxVqpTgU/4x+JkQAKe5ZYc2GCgr4Nu7ZtjUv+2wl7XlV0//B2FgMgHWDXTFaZNqm7R5hUUYsVln5fWH1dm26a5eekRiXXpvOpwrMt8Sv3ZxJGPh4ijNDiSMPPxg8ZZqW4FLiwowu3EdFy9nYaQ6FQ8fJIDW/NGmD+mExoYVnxAg3A6VfozfP9B1adTPc7JwXKfc0h6YZcueU5Z1Ls/eppbykum1N+ry1GpmVFh48SRj/OIozQ4Kk2Ys7OzsWzZMqSlpSE3Nxeenp6wt7fHkiVLUFhYCBMTE3h5eUFfv/JTc1JSy+9PzAMZBR4Piort8cxEetfJG0JrmLWEF45zeqlFzNLMXusN6xYN8ek050ozzY5g/PyFmddiS9ikYSPsGDxC9ClLYu1WJx3FY3VoVZ6WOBJHPgT4WFE0HpUmzCdOnEBiYiLeffdd4f9nzJiBrl27wsPDA4MGDcK6detgZmaGSZMmVUqChJlPkCjDiqKBh+JiHPaJwTG/OBjX18P8MZ3RqswGIvdTnmL5rkC4O5pj+iD7CosQ+OA+1vleeOnEJ3nl1dPTR3tzC3hY2cDD3IrrFpvynv3i7wpzrO4D1TQ9ceTjWOIoDY5KE+ayxbty5Qo2bdqEe/fu4dSpU0IrOTQ0FLt27cLmzZtJmPnEQq1a4VWBvUMTsfd0NPR0tfD52z1g+krJWLJ/xAP8eCwKk15vh37OL3c3/3XnFn4J8ntp6VNlEPT168HB3Aq9rW3Qw6zFS2cf1yq8Mg/jxbGu8i+V5xJHPp4gjtLgqHRhnjBhAh48eIBt27Zh+tvTEeAfIJQ8Pj5e6Nbev38/CTOfWKhVKzwrsF9EEnYeu44OLRtj0YQuwn7Wv1+4jZMB8Vg2uSvaWjV+XrbiYnwfFoJz18PllreeQX10trBCH6uW6Gbaok5bxpVllidHuUDUOAFx5ONc4igNjkoXZlbM69evCyKc+jC1VJjj4uKwdOnSKoW5oKAQurqVz9rlg5Cs1DUBtuHHih8DEHQjBQsmOMHvWTzOXbuJvGeFmNzHGZ49XIQs5hYU4MPTZ3D19u1Ks8x273q1VSsMbNsaPSwsoF3JoRV1XWZ6PhEgAkRADAGt4he3RBJzVyVpIiIi0LRpU7RoUbIN4+DBg4VJYMePH4eBgQECAwOxd+9eoYu7sovGmBVwgJJv5f1l/ehJDj76wQ8PzeMBrfKZNzQ0wsYBQ/GJzzmkpKW+VDImxl0tW6KvlTUcm5lWeoKUkpHUyDxvjjXKhBrcRBz5OJE4SoOj0lrMu3fvFiZ9ffLJJ3j48CHGjBkDd3d3uLi4YMSIEVi5ciXs7OwwduxYEmY+sVCrVpRRgccf+A0FRXkVlkMLWihGcelvDYwboJuVDV6ztkH7V5rWatl5PkwZHHnmT1VsEUc+niKO0uCoNGHOyckRRDkpKQnsv+fOnQsHBweh+5q1nM3NzbFq1Sro6VV+FCC1mPkEiTKs8K7AD7KeYs7R36vMakPjBni1pS36WtmgXZNXlFGsWrfJm2OtF0AiDySOfBxBHKXBUWnCzKN4JMw8KCrHBu8KfCLmDnZe9qkys7tGT0CjegbKKVAdWeXNsY6KUeePJY58XEAcpcGRhJmPHzTOCu8K/Cg7G+8eOVAlx4PjpklyZrUizufNUZG8qPK9xJGP94ijNDiSMPPxg8ZZUUYFHrNvT7lx5LJQGzZoiJ+GjlY7zsrgqHaQRBSIOIqAJCIJcRQBSUQSRTmSMIuATEleJqBo4Fk/J+sAAAofSURBVFXE9HF2Nv5TQavZ0NAQv4wYp5ZuUAZHtQQlp1DEkY/XiaM0OJIw8/GDxllRVgXOLyzAwnOnkZr+CNraurAxNcUq99fUlq+yOKotsEoKRhz5eJw4SoMjCTMfP2icFarAfFxOHIkjHwJ8rFA8SoMjCTMfP2icFarAfFxOHIkjHwJ8rFA8SoMjCTMfP2icFarAfFxOHIkjHwJ8rFA8SoMjCTMfP2icFarAfFxOHIkjHwJ8rFA8SoMjCTMfP2icFarAfFxOHIkjHwJ8rFA8SoMjCTMfP2icFarAfFxOHIkjHwJ8rFA8SoMjCTMfP2icFarAfFxOHIkjHwJ8rFA8SoMjCTMfP2icFarAfFxOHIkjHwJ8rFA8SoMjCTMfP2icFarAfFxOHIkjHwJ8rFA8SoMjCTMfP2icFarAfFxOHIkjHwJ8rFA8SoOjpIWZDyKyQgSIABEgAkRANQloFRcXF6tm1inXRIAIEAEiQATUjwAJs/r5lEpEBIgAESACKkyAhFmFnUdZJwJEgAgQAfUjQMKsfj6lEhEBIkAEiIAKEyBhVmHnUdaJABEgAkRA/QiQMKufT6lERIAIEAEioMIE1FqYv/76a4SFhUFLSwsff/wxOnfurMKuqv2sr169GsHBwSgoKMDMmTPRqVMnLFmyBIWFhTAxMYGXlxf09fVrP2Mq9sScnBwMGTIEc+bMgaurKzGsof+OHj2KH3/8Ebq6upg3bx7s7OyIZTVYZmVlYenSpXjy5Any8/OFeGT1+PPPPxesMJ5ffPFFNSxqXtLo6GjMnj0bb7/9NqZMmYKkpKQKY5DF6p49e6CtrY1x48Zh7Nix1YKltsIcGBiInTt3Yvv27bhz544gzAcOHKgWHE1OHBAQIPD74Ycf8PjxY4waNUoQFQ8PDwwaNAjr1q2DmZkZJk2apMmYRJV9/fr18PX1xeTJkxEUFEQMRVErn4jF4IQJE/DHH3/g2bNn2Lx5s/DBSPEoHubevXuRnJyMRYsWCf//1ltvCcK8ePFiodHC/j58+HD07t1bvFENSsnijjVQbGxshI8YJswfffTRSzE4cuRI4X35+++/Q09PD2PGjAFj37hxY9G01FaYN27cCHNz89IvlTfeeEMAZWxsLBqOJidkreLc3FwYGhoKLeSePXvCyMgIp06dElrJoaGh2LVrl/CCpKtyAuyjkH3E2Nvbw8LCAt999x0xrEHAnDhxAuxjW9a6YyZee+01YlkNlsePHwf74F6xYgVu3bqF5cuXIyUlBefOnROsHDt2DBEREVi2bFk1rGpOUvYhyP7HGitNmjQRhLmiGGSNFfYBuWbNGgHOZ599hj59+ghpxV5qK8ws6NiXX//+/QUWDNZXX30FW1tbsWwo3b8EWE/DlStX4OPrgwD/AOGv8fHxQhfO/v37iVMVBN577z3hBXjkyBFBmFd7rSaGNYiYHTt2ICYmBunp6cjIyMD777+PhR8sJJbVZPnOO+8IdZcx3Lp1K7788kshNtnl7+8vNF7Wrl1bTaualZw1RmTC/Krrqy/FIOsZCw8PF3pp2bVhwwa0aNEC48ePFw1KY4R54sSJYGPOJMyiY0NI+M8//wjDAax1/PqA10uDMC4uThivImGunCd74d2/fx+enp5Cz8KLwkwMxcciE+aQkBChx4ExnTZtGnJycygexSPEX3/9JXxgsxbzjRs3hDHmBg0alAqzn5+f0NIjYa4aamXCLKvPLwozG8pivbckzIDwImTjJ2xcil39+vUTApO6ssXXZB8fH+Frj401s/ERxpB1hxkYGAjdimzcZNOmTeINaljKBQsWICEhATo6OsIkEdlEOWJY/UBggvHw4UNhjI9dgwcPFoZaiKV4lv/973+FIamBAwcKN7m5uQmx6e3tLfz78OHDYJOb2Ac3XZUTKCvMFb0TmTCzXkY2hMUuNg49YMAA9O3bVzRWtW0xs69rBvCnn35CZGQkVq5ciX379okGo+kJMzMzhe7/3bt3o2nTpgIO1iXr4uKCESNGCDzZBIjqzjbUVK6yFjMbmyeG1Y8CNlmJjX2yj0Q2q3j06NGCsBBL8SxZrxf7uGFDUImJiZgxY4bQi8N6dBhHNtt46tSpgnjTJU6YK3onDhs2DOx/7GOSffiwWGVDBKx3QuyltsLMALDBd9Z1w5ZLsa9FNgGHLnEE2BcfE5OyXf/ffPMNPv30U6GlwrpmVq1aJcw6pEs+AZkwMzFhLRJiKJ/ZiynYsMmhQ4eEPzMxYcv3iKV4jmy5FBv3TEtLEyYxzZ8/X+hVZJOTioqK4OjoKLTu6KqYAJsY9+233wofNWzJXvPmzQWNYR+ML9ZnNkmWfUQy7WGTxNhs9+pcai3M1QFBaYkAESACRIAISIEACbMUvEB5IAJEgAgQASLwLwESZgoFIkAEiAARIAISIkDCLCFnUFaIABEgAkSACJAwUwwQASJABIgAEZAQARJmCTmDskIEiAARIAJEgISZYoAIqAEBdhIY2waQLduIiopCly5dhFKx5YIXLlwQlnbQRQSIgGoQIGFWDT9RLomAKAL37t0D236W7dpGFxEgAqpJgIRZNf1GuSYCFRJ4UZjZiTZs97uWLVsKWwSyHfGys7PRvXt3YQcotrXqtm3bhCM8WYubbTLBdnQ7c+aMcGAEO0mH/dahQwdhU4/Lly+DbVTBNptp166dcN45+2+24QLbTIFtVtGmTRvyDhEgAgoQIGFWAB7dSgSkRqAyYWbd26xLm+1cxC52gMGbb74pHOXJBPfs2bOoX78+unXrJpw4xM6UZTsasd3ypk+fLogw272M7bPMdt9i+yuzAyXYv728vITzfM+fPy8cdvLLL79IDQvlhwioFAESZpVyF2WWCFRNoDJhZq1mdqyfqampYIDthc728GWtY3aa0MGDB4W/u7u7C4eTsBY2OxWHbbk6d+5cQZjZPt9MyNkZ00zY2T1sY/7g4GDhXtaSZluOsnR0EQEiUHMCJMw1Z0d3EgHJEahMmH/99VdhAhg7j7fsxbqm2QlisgNemDCz/7a0tBSEmXVRs7OPmTCzbnB2OhsTZibWTJjZAfAyYX769Kkg7CTMkgsLypCKESBhVjGHUXaJQFUEKhNmdv4uazWz1jATW9YNPXToULBTm8QK85YtW9C/f39BkNnZvey+QYMGCWPMbGyajUv/9ttvwnPoIgJEoOYESJhrzo7uJAKSI1CZMFtbW4MtqWKTvZgws8lc7KQwtpxKrDCzVjKb7MUmhTFbrVu3xrVr1wRhZsfbaWtr4/PPPy93IpnkAFGGiIAKECBhVgEnURaJQF0TYF3ZbAIZE3W6iAARUC4BEmbl8iXrREAtCJAwq4UbqRAqQoCEWUUcRdkkAkSACBABzSBAwqwZfqZSEgEiQASIgIoQIGFWEUdRNokAESACREAzCJAwa4afqZREgAgQASKgIgRImFXEUZRNIkAEiAAR0AwC/wf7p/0Tb0dcmwAAAABJRU5ErkJggg==)"
      ]
    },
    {
      "cell_type": "code",
      "metadata": {
        "id": "JwV80NmZOq-D",
        "colab": {
          "base_uri": "https://localhost:8080/",
          "height": 335
        },
        "outputId": "97522a22-2382-4daf-f05c-00deb83d9814"
      },
      "source": [
        "# Desarrollar solucion\n",
        "\n",
        "import matplotlib.pyplot as plt\n",
        "plt.plot(x,precios, color='k')\n",
        "prevVal = 0.0\n",
        "puntosInflec = []\n",
        "for i in range(0,len(precios)):\n",
        "  resta = precios[i] - prevVal\n",
        "  if resta >= 0 :\n",
        "    puntosInflec.append(precios[i])\n",
        "  prevVal = precios[i]\n",
        "\n",
        "inicio = time() #Tiempo incial de ejecucion\n",
        "#-----------Solucion con For Loop-------------------------\n",
        "\n",
        "\n",
        "\n",
        "\n",
        "fin = time() #Tiempo final de ejecucion\n",
        "print(\"El tiempo de ejecución en segundos usando for loop es de: {}\".format(fin-inicio))\n",
        "\n",
        "\n",
        "inicio = time() #Tiempo incial de ejecucion\n",
        "#-----------Solucion con Vectorizacion-------------------------\n",
        "\n",
        "\n",
        "\n",
        "\n",
        "\n",
        "fin = time() #Tiempo final de ejecucion\n",
        "print(\"El tiempo de ejecución en segundos usando for loop es de: {}\".format(fin-inicio))\n"
      ],
      "execution_count": 12,
      "outputs": [
        {
          "output_type": "stream",
          "text": [
            "[80.99342830602247, 71.15842563101478, 63.08512008717193, 48.875424941518055, 46.628494665190544, 42.93129753784311, 33.322824608119916, 34.55946964327059, 35.22515820411264, 41.41884208330359, 43.21651839563495, 44.560584332866654, 44.057913616488854, 48.39372247173824, 50.76264744570511, 50.91416513380851, 51.62584629236638, 52.540649751678565, 54.2745972974963, 56.07872245808043, 60.39995873815212, 62.79102508164674, 63.36044171367381, 67.22335257768174, 69.3477133307062, 70.43398880966097, 70.5244323911547, 73.09109829137856, 75.66537596853044, 74.06094908068583, 74.50735185201344, 72.51988630860455, 69.31253480076042, 71.02479108164988, 69.79595397829469, 67.02842039336583, 63.64506001460946, 61.740143403812155, 62.252686681485024, 63.85322398691893, 60.16413756873747, 57.43679127648312, 57.065495109270906, 53.190829552958306, 52.515317477206075]\n",
            "26\n",
            "[80.99342830602247, 34.55946964327059, 35.22515820411264, 41.41884208330359, 43.21651839563495, 44.560584332866654, 48.39372247173824, 50.76264744570511, 50.91416513380851, 51.62584629236638, 52.540649751678565, 54.2745972974963, 56.07872245808043, 60.39995873815212, 62.79102508164674, 63.36044171367381, 67.22335257768174, 69.3477133307062, 70.43398880966097, 70.5244323911547, 73.09109829137856, 75.66537596853044, 74.50735185201344, 71.02479108164988, 62.252686681485024, 63.85322398691893]\n"
          ],
          "name": "stdout"
        },
        {
          "output_type": "display_data",
          "data": {
            "image/png": "[encoded data removed]",
            "text/plain": [
              "<Figure size 432x288 with 1 Axes>"
            ]
          },
          "metadata": {
            "tags": [],
            "needs_background": "light"
          }
        }
      ]
    },
    {
      "cell_type": "code",
      "metadata": {
        "id": "rN49xd_s85c3"
      },
      "source": [
        ""
      ],
      "execution_count": null,
      "outputs": []
    }
  ]
}